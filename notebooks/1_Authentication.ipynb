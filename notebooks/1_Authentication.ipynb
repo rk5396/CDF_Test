{
 "cells": [
  {
   "cell_type": "markdown",
   "metadata": {
    "id": "IJ91Pu4l64QF"
   },
   "source": [
    "# Copyright 2022 Cognite AS\n",
    "## Authentication\n",
    "\n",
    "- Instantiating a `CogniteClient` using different methods:\n",
    "  - Interactive login\n",
    "  - Using device code\n",
    "  - Using client credentials\n",
    "- Checking the login status"
   ]
  },
  {
   "cell_type": "markdown",
   "metadata": {
    "id": "LhLXvKoEeRcW"
   },
   "source": [
    "### Prerequisites"
   ]
  },
  {
   "cell_type": "markdown",
   "metadata": {
    "id": "2fcvzMnTen-Q"
   },
   "source": [
    "Make sure you have installed all the required packages!\n",
    "This can be done by running:\n",
    "\n",
    "```poetry install```\n",
    "\n",
    "...in your terminal."
   ]
  },
  {
   "cell_type": "markdown",
   "metadata": {},
   "source": [
    "You need to specify the values for the following configuration parameters:\n",
    " * `Tenant ID` - the ID of the Azure AD tenant where the user is registered.\n",
    " * `Client ID` - the ID of the application in Azure AD.\n",
    " * `Cluster` - the cluster where your CDF project is installed. For example, api and westeurope-1.\n",
    " * `CDF project` - the name of the CDF project."
   ]
  },
  {
   "cell_type": "markdown",
   "metadata": {
    "id": "wMYAkvE2fd4A"
   },
   "source": [
    "If you don't know which values to use for these variables, contact your CDF administrator or Cognite Support."
   ]
  },
  {
   "cell_type": "markdown",
   "metadata": {
    "id": "WiWDuLtLfy2l"
   },
   "source": [
    "You can directly set the values for these parameters here or read as environment variables or from file."
   ]
  },
  {
   "cell_type": "code",
   "execution_count": 1,
   "metadata": {
    "id": "UqIYl20WemoT"
   },
   "outputs": [],
   "source": [
    "TENANT_ID = \"48d5043c-cf70-4c49-881c-c638f5796997\"\n",
    "CLIENT_ID = \"fab52bb5-9de2-4f9e-aefa-712da4b5fe00\"\n",
    "CDF_CLUSTER = \"westeurope-1\"\n",
    "COGNITE_PROJECT = \"ds-basics\"\n",
    "BASE_URL = f\"https://{CDF_CLUSTER}.cognitedata.com\""
   ]
  },
  {
   "cell_type": "markdown",
   "metadata": {
    "id": "6icD8Qewd4ua"
   },
   "source": [
    "### Authenticate with user credentials\n",
    "You can authenticate the Python SDK with Azure AD by using a token retrieved with user credentials.\n",
    "\n",
    "#### Interactive Login\n",
    "You can get the token by letting the user sign in interactively via a browser and use the authenticate with interactive login and token refresh flow to access CDF when you're running short-term scripts or using Jupyter."
   ]
  },
  {
   "cell_type": "code",
   "execution_count": 2,
   "metadata": {
    "id": "-WNZiPG_hDwB"
   },
   "outputs": [],
   "source": [
    "from cognite.client.credentials import OAuthInteractive\n",
    "from cognite.client import CogniteClient, ClientConfig"
   ]
  },
  {
   "cell_type": "code",
   "execution_count": 3,
   "metadata": {},
   "outputs": [],
   "source": [
    "credentials = OAuthInteractive(\n",
    "    authority_url=f\"https://login.microsoftonline.com/{TENANT_ID}\",\n",
    "    client_id=CLIENT_ID,\n",
    "    scopes=[f\"{BASE_URL}/.default\"],\n",
    ")\n",
    "config = ClientConfig(\n",
    "    client_name=\"Cognite Academy course taker\",\n",
    "    project=COGNITE_PROJECT,\n",
    "    base_url=BASE_URL,\n",
    "    credentials=credentials,\n",
    ")\n",
    "client = CogniteClient(config)"
   ]
  },
  {
   "cell_type": "markdown",
   "metadata": {},
   "source": [
    "We can verify that we have connected to CDF by checking the `token/inspect` endpoint.\n",
    "\n",
    "The respones is quite large, so we loop through and only pick out the actual CDF projects we have access to:"
   ]
  },
  {
   "cell_type": "code",
   "execution_count": 4,
   "metadata": {},
   "outputs": [
    {
     "data": {
      "text/plain": [
       "['learn-to-demo-cdf',\n",
       " 'learn-cdf',\n",
       " 'cognite-charts',\n",
       " 'ds-basics',\n",
       " 'ds-cognitefunctions',\n",
       " 'learn']"
      ]
     },
     "execution_count": 4,
     "metadata": {},
     "output_type": "execute_result"
    }
   ],
   "source": [
    "response = client.iam.token.inspect()\n",
    "[proj.url_name for proj in response.projects]"
   ]
  },
  {
   "cell_type": "markdown",
   "metadata": {},
   "source": [
    "# You may skip the rest of this notebook\n",
    "We will now go through a couple of other ways to authenticate towards CDF. They are **not necessary** to understand in order to finish this course, so going through them is **optional**!"
   ]
  },
  {
   "cell_type": "markdown",
   "metadata": {},
   "source": [
    "-----"
   ]
  },
  {
   "cell_type": "markdown",
   "metadata": {
    "id": "MGAC2-jsgZmI"
   },
   "source": [
    "#### Using Device Code\n",
    "If a browser is not available, for example, if you are logged into a terminal, you can use the authenticate device code flow to do the authentication from a different device (like your phone)"
   ]
  },
  {
   "cell_type": "code",
   "execution_count": null,
   "metadata": {},
   "outputs": [],
   "source": [
    "from cognite.client.credentials import OAuthDeviceCode"
   ]
  },
  {
   "cell_type": "code",
   "execution_count": null,
   "metadata": {
    "id": "UzNGnYxzhc3Z"
   },
   "outputs": [],
   "source": [
    "credentials = OAuthDeviceCode(\n",
    "    authority_url=f\"https://login.microsoftonline.com/{TENANT_ID}\",\n",
    "    client_id=CLIENT_ID,\n",
    "    scopes=[f\"{BASE_URL}/.default\"],\n",
    ")\n",
    "config = ClientConfig(\n",
    "    client_name=\"Cognite Academy course taker\",\n",
    "    project=COGNITE_PROJECT,\n",
    "    base_url=BASE_URL,\n",
    "    credentials=credentials,\n",
    ")\n",
    "client = CogniteClient(config)"
   ]
  },
  {
   "cell_type": "markdown",
   "metadata": {},
   "source": [
    "On our first call to CDF, the device code login flow will trigger. You will see a message pop up saying something like:\n",
    "\n",
    "*Device code: To sign in, use a web browser to open the page https://microsoft.com/devicelogin and enter the code DXXXXXX to authenticate.*\n",
    "\n",
    "If you are on a laptop, then you can of course just complete this from the same device, but that is of course not the use case for this way of authenticating."
   ]
  },
  {
   "cell_type": "code",
   "execution_count": null,
   "metadata": {},
   "outputs": [],
   "source": [
    "response = client.iam.token.inspect()"
   ]
  },
  {
   "cell_type": "code",
   "execution_count": null,
   "metadata": {},
   "outputs": [],
   "source": [
    "# Once completed, we can verify that we are connected to CDF:\n",
    "[proj.url_name for proj in response.projects]"
   ]
  },
  {
   "cell_type": "markdown",
   "metadata": {
    "id": "SeukLHOEsZv2"
   },
   "source": [
    "### Authenticate with client credentials"
   ]
  },
  {
   "cell_type": "markdown",
   "metadata": {},
   "source": [
    "For long-running jobs, like an extractor or a use case, we do want to use a pre-shared secret, a so-called \"client secret\" to allow it to connect without any human intervention.\n",
    "\n",
    "These secrets must be treated with great care as they grant access for a long period of time (as opposed to token-based auth methods, like those above, which typically run out after an hour).\n",
    "\n",
    "**Store it safely in a password manager.**"
   ]
  },
  {
   "cell_type": "code",
   "execution_count": null,
   "metadata": {},
   "outputs": [],
   "source": [
    "from getpass import getpass\n",
    "CLIENT_SECRET = getpass(\"Enter the Client Secret: \")  # Enter the client secret interactively here"
   ]
  },
  {
   "cell_type": "markdown",
   "metadata": {},
   "source": [
    "*If you have not recevied a client secret, and want to try it out, contact your Academy Instructor (or CDF administrator or Cognite Support)*"
   ]
  },
  {
   "cell_type": "code",
   "execution_count": null,
   "metadata": {
    "id": "0JAPsS7Ts8fZ"
   },
   "outputs": [],
   "source": [
    "from cognite.client.credentials import OAuthClientCredentials\n",
    "\n",
    "credentials = OAuthClientCredentials(\n",
    "    token_url=f\"https://login.microsoftonline.com/{TENANT_ID}/oauth2/v2.0/token\", \n",
    "    client_id=CLIENT_ID, \n",
    "    scopes=[f\"{BASE_URL}/.default\"], \n",
    "    client_secret= CLIENT_SECRET\n",
    ")\n",
    "config = ClientConfig(\n",
    "    client_name=\"Cognite Academy course taker\",\n",
    "    project=COGNITE_PROJECT,\n",
    "    base_url=BASE_URL,\n",
    "    credentials=credentials,\n",
    ")\n",
    "client = CogniteClient(config)"
   ]
  },
  {
   "cell_type": "markdown",
   "metadata": {
    "id": "wFuq1vmBuWfw"
   },
   "source": [
    "Granted our credentials are correct, we are now instantly authenticated:"
   ]
  },
  {
   "cell_type": "code",
   "execution_count": null,
   "metadata": {
    "id": "TFrWgdKxuaQu"
   },
   "outputs": [],
   "source": [
    "response = client.iam.token.inspect()\n",
    "[proj.url_name for proj in response.projects]"
   ]
  }
 ],
 "metadata": {
  "kernelspec": {
   "display_name": "Python 3 (ipykernel)",
   "language": "python",
   "name": "python3"
  },
  "language_info": {
   "codemirror_mode": {
    "name": "ipython",
    "version": 3
   },
   "file_extension": ".py",
   "mimetype": "text/x-python",
   "name": "python",
   "nbconvert_exporter": "python",
   "pygments_lexer": "ipython3",
   "version": "3.11.4"
  },
  "vscode": {
   "interpreter": {
    "hash": "68aa26314eca5340f6039664dae0b47e76372e28645996c9e7ee90e629518123"
   }
  }
 },
 "nbformat": 4,
 "nbformat_minor": 4
}
