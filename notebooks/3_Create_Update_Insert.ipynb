{
 "cells": [
  {
   "cell_type": "markdown",
   "metadata": {},
   "source": [
    "# Copyright 2022 Cognite AS\n",
    "\n",
    "## Import the Libraries and Modules"
   ]
  },
  {
   "cell_type": "code",
   "execution_count": 1,
   "metadata": {},
   "outputs": [],
   "source": [
    "import sys\n",
    "from pathlib import Path\n",
    "\n",
    "utils = str(Path(\"../utils\").resolve())\n",
    "if utils not in sys.path:\n",
    "    sys.path.append(utils)\n",
    "\n",
    "from cognite_auth import interactive_client"
   ]
  },
  {
   "cell_type": "markdown",
   "metadata": {},
   "source": [
    "## Create the Cognite Client"
   ]
  },
  {
   "cell_type": "code",
   "execution_count": 2,
   "metadata": {},
   "outputs": [],
   "source": [
    "c = interactive_client()"
   ]
  },
  {
   "cell_type": "markdown",
   "metadata": {
    "id": "s5iBkw997VV3"
   },
   "source": [
    "## Create various resource types"
   ]
  },
  {
   "cell_type": "markdown",
   "metadata": {
    "id": "2JHlYHDhEBMk"
   },
   "source": [
    "Create timeseries, datasets, labels, events etc.\n",
    "\n",
    "**Code Pattern**\n",
    "\n",
    "`client.<cdf_resource_type>.create()`"
   ]
  },
  {
   "cell_type": "markdown",
   "metadata": {
    "id": "D0XyKdNAEaMt"
   },
   "source": [
    "Dataset"
   ]
  },
  {
   "cell_type": "code",
   "execution_count": 3,
   "metadata": {
    "id": "qPRljoPOECO8"
   },
   "outputs": [],
   "source": [
    "from cognite.client.data_classes import DataSet"
   ]
  },
  {
   "cell_type": "code",
   "execution_count": 4,
   "metadata": {},
   "outputs": [
    {
     "data": {
      "text/html": [
       "<div>\n",
       "<style scoped>\n",
       "    .dataframe tbody tr th:only-of-type {\n",
       "        vertical-align: middle;\n",
       "    }\n",
       "\n",
       "    .dataframe tbody tr th {\n",
       "        vertical-align: top;\n",
       "    }\n",
       "\n",
       "    .dataframe thead th {\n",
       "        text-align: right;\n",
       "    }\n",
       "</style>\n",
       "<table border=\"1\" class=\"dataframe\">\n",
       "  <thead>\n",
       "    <tr style=\"text-align: right;\">\n",
       "      <th></th>\n",
       "      <th>external_id</th>\n",
       "      <th>name</th>\n",
       "      <th>description</th>\n",
       "      <th>metadata</th>\n",
       "      <th>write_protected</th>\n",
       "      <th>id</th>\n",
       "      <th>created_time</th>\n",
       "      <th>last_updated_time</th>\n",
       "    </tr>\n",
       "  </thead>\n",
       "  <tbody>\n",
       "    <tr>\n",
       "      <th>0</th>\n",
       "      <td>BRA_TestData_pawara</td>\n",
       "      <td>TestDataset_pawara</td>\n",
       "      <td>Deprecated 2024-04-11 10:32:54</td>\n",
       "      <td>{'archived': 'true'}</td>\n",
       "      <td>True</td>\n",
       "      <td>532492593814</td>\n",
       "      <td>2024-03-11 11:56:18.643</td>\n",
       "      <td>2024-04-11 08:32:54.839</td>\n",
       "    </tr>\n",
       "    <tr>\n",
       "      <th>1</th>\n",
       "      <td>NaN</td>\n",
       "      <td>pawel_world_info</td>\n",
       "      <td>Deprecated 2023-11-28 09:05:41</td>\n",
       "      <td>{'archived': 'true'}</td>\n",
       "      <td>False</td>\n",
       "      <td>3708248994472</td>\n",
       "      <td>2023-03-09 09:26:45.653</td>\n",
       "      <td>2023-11-28 08:05:41.636</td>\n",
       "    </tr>\n",
       "    <tr>\n",
       "      <th>2</th>\n",
       "      <td>my_example_dataset_1</td>\n",
       "      <td>my_example_dataset</td>\n",
       "      <td>Deprecated 2024-08-08 10:24:30</td>\n",
       "      <td>{'archived': 'true'}</td>\n",
       "      <td>False</td>\n",
       "      <td>8971087276716</td>\n",
       "      <td>2023-10-16 12:35:02.025</td>\n",
       "      <td>2024-08-08 08:24:30.377</td>\n",
       "    </tr>\n",
       "    <tr>\n",
       "      <th>3</th>\n",
       "      <td>aleksander_my_example_dataset</td>\n",
       "      <td>aleksander_my_example_dataset</td>\n",
       "      <td>Deprecated 2023-11-28 09:05:41</td>\n",
       "      <td>{'archived': 'true'}</td>\n",
       "      <td>False</td>\n",
       "      <td>22547179591127</td>\n",
       "      <td>2023-06-15 10:16:37.532</td>\n",
       "      <td>2023-11-28 08:05:42.075</td>\n",
       "    </tr>\n",
       "    <tr>\n",
       "      <th>4</th>\n",
       "      <td>NaN</td>\n",
       "      <td>Marie_world_info</td>\n",
       "      <td>NaN</td>\n",
       "      <td>{}</td>\n",
       "      <td>True</td>\n",
       "      <td>23758930699440</td>\n",
       "      <td>2024-09-12 09:10:20.466</td>\n",
       "      <td>2024-09-12 09:10:20.466</td>\n",
       "    </tr>\n",
       "    <tr>\n",
       "      <th>5</th>\n",
       "      <td>Crístian2</td>\n",
       "      <td>Crístian2_world_info</td>\n",
       "      <td>Deprecated 2024-08-08 10:24:30</td>\n",
       "      <td>{'archived': 'true'}</td>\n",
       "      <td>False</td>\n",
       "      <td>32889565298826</td>\n",
       "      <td>2024-07-15 13:05:07.821</td>\n",
       "      <td>2024-08-08 08:24:30.485</td>\n",
       "    </tr>\n",
       "    <tr>\n",
       "      <th>6</th>\n",
       "      <td>lsun2_world_info_jack</td>\n",
       "      <td>world_info_jack</td>\n",
       "      <td>Deprecated 2024-08-30 12:28:04</td>\n",
       "      <td>{'archived': 'true'}</td>\n",
       "      <td>True</td>\n",
       "      <td>39210236434027</td>\n",
       "      <td>2023-03-01 06:15:52.855</td>\n",
       "      <td>2024-08-30 10:28:04.376</td>\n",
       "    </tr>\n",
       "    <tr>\n",
       "      <th>7</th>\n",
       "      <td>world_info_jack_11</td>\n",
       "      <td>world_info_jack_11</td>\n",
       "      <td>Deprecated 2023-11-28 09:05:42</td>\n",
       "      <td>{'archived': 'true'}</td>\n",
       "      <td>True</td>\n",
       "      <td>40327729659769</td>\n",
       "      <td>2023-10-08 09:35:19.194</td>\n",
       "      <td>2023-11-28 08:05:42.292</td>\n",
       "    </tr>\n",
       "    <tr>\n",
       "      <th>8</th>\n",
       "      <td>world_info_jack_gkcnsrkefvn</td>\n",
       "      <td>world_info_jack</td>\n",
       "      <td>Deprecated 2024-08-30 12:28:04</td>\n",
       "      <td>{'archived': 'true'}</td>\n",
       "      <td>True</td>\n",
       "      <td>48758153143218</td>\n",
       "      <td>2023-06-21 14:32:18.351</td>\n",
       "      <td>2024-08-30 10:28:04.462</td>\n",
       "    </tr>\n",
       "    <tr>\n",
       "      <th>9</th>\n",
       "      <td>Timi_world_info</td>\n",
       "      <td>world_info_Timi</td>\n",
       "      <td>Deprecated 2024-01-23 13:13:55</td>\n",
       "      <td>{'archived': 'true'}</td>\n",
       "      <td>False</td>\n",
       "      <td>58158657947049</td>\n",
       "      <td>2023-12-19 09:20:59.755</td>\n",
       "      <td>2024-01-23 12:13:55.582</td>\n",
       "    </tr>\n",
       "    <tr>\n",
       "      <th>10</th>\n",
       "      <td>NaN</td>\n",
       "      <td>1st level</td>\n",
       "      <td>Deprecated 2024-06-21 12:33:58</td>\n",
       "      <td>{'archived': 'true'}</td>\n",
       "      <td>False</td>\n",
       "      <td>58839366849857</td>\n",
       "      <td>2023-05-15 13:55:57.661</td>\n",
       "      <td>2024-06-21 10:33:58.541</td>\n",
       "    </tr>\n",
       "    <tr>\n",
       "      <th>11</th>\n",
       "      <td>NaN</td>\n",
       "      <td>my example</td>\n",
       "      <td>Deprecated 2023-11-28 09:05:42</td>\n",
       "      <td>{'archived': 'true'}</td>\n",
       "      <td>False</td>\n",
       "      <td>77646949468688</td>\n",
       "      <td>2023-09-18 10:45:35.880</td>\n",
       "      <td>2023-11-28 08:05:42.548</td>\n",
       "    </tr>\n",
       "    <tr>\n",
       "      <th>12</th>\n",
       "      <td>world_info_mohsen</td>\n",
       "      <td>world_info_mohsen</td>\n",
       "      <td>Deprecated 2023-11-28 09:05:42</td>\n",
       "      <td>{'archived': 'true'}</td>\n",
       "      <td>False</td>\n",
       "      <td>85963087988610</td>\n",
       "      <td>2023-11-10 15:04:27.547</td>\n",
       "      <td>2023-11-28 08:05:42.656</td>\n",
       "    </tr>\n",
       "    <tr>\n",
       "      <th>13</th>\n",
       "      <td>world_info_bhaskar</td>\n",
       "      <td>world_info_bhaskar</td>\n",
       "      <td>Deprecated 2023-05-09 10:46:28</td>\n",
       "      <td>{'archived': 'true'}</td>\n",
       "      <td>True</td>\n",
       "      <td>86545673296094</td>\n",
       "      <td>2023-03-03 22:50:37.759</td>\n",
       "      <td>2023-05-09 08:46:28.843</td>\n",
       "    </tr>\n",
       "    <tr>\n",
       "      <th>14</th>\n",
       "      <td>NaN</td>\n",
       "      <td>kiyoshi_world_info</td>\n",
       "      <td>Deprecated 2023-08-09 09:20:34</td>\n",
       "      <td>{'archived': 'true'}</td>\n",
       "      <td>False</td>\n",
       "      <td>88809449333750</td>\n",
       "      <td>2023-07-24 19:55:02.359</td>\n",
       "      <td>2023-08-09 07:20:34.110</td>\n",
       "    </tr>\n",
       "    <tr>\n",
       "      <th>15</th>\n",
       "      <td>world_info_jack_SAYAN</td>\n",
       "      <td>world_info_jack_SAYAN</td>\n",
       "      <td>Deprecated 2023-11-28 09:05:42</td>\n",
       "      <td>{'archived': 'true'}</td>\n",
       "      <td>False</td>\n",
       "      <td>91028975699979</td>\n",
       "      <td>2023-08-21 07:46:41.810</td>\n",
       "      <td>2023-11-28 08:05:42.760</td>\n",
       "    </tr>\n",
       "    <tr>\n",
       "      <th>16</th>\n",
       "      <td>NaN</td>\n",
       "      <td>patrick1998_world_info</td>\n",
       "      <td>Deprecated 2024-04-11 10:32:55</td>\n",
       "      <td>{'archived': 'true'}</td>\n",
       "      <td>False</td>\n",
       "      <td>99825339813632</td>\n",
       "      <td>2024-03-06 13:48:20.511</td>\n",
       "      <td>2024-04-11 08:32:55.390</td>\n",
       "    </tr>\n",
       "    <tr>\n",
       "      <th>17</th>\n",
       "      <td>Test</td>\n",
       "      <td>test</td>\n",
       "      <td>Deprecated 2024-08-08 10:24:30</td>\n",
       "      <td>{'archived': 'true'}</td>\n",
       "      <td>False</td>\n",
       "      <td>104573554199652</td>\n",
       "      <td>2024-07-05 08:39:40.831</td>\n",
       "      <td>2024-08-08 08:24:30.818</td>\n",
       "    </tr>\n",
       "    <tr>\n",
       "      <th>18</th>\n",
       "      <td>Prince</td>\n",
       "      <td>Prince_example_dataset</td>\n",
       "      <td>New description with Partial Update</td>\n",
       "      <td>{}</td>\n",
       "      <td>False</td>\n",
       "      <td>106313613626018</td>\n",
       "      <td>2024-08-27 08:42:52.262</td>\n",
       "      <td>2024-08-27 14:40:15.466</td>\n",
       "    </tr>\n",
       "    <tr>\n",
       "      <th>19</th>\n",
       "      <td>first_levelK</td>\n",
       "      <td>1st level K</td>\n",
       "      <td>Deprecated 2023-11-28 09:05:42</td>\n",
       "      <td>{'archived': 'true'}</td>\n",
       "      <td>False</td>\n",
       "      <td>111662049520578</td>\n",
       "      <td>2023-08-01 06:57:07.611</td>\n",
       "      <td>2023-11-28 08:05:42.864</td>\n",
       "    </tr>\n",
       "    <tr>\n",
       "      <th>20</th>\n",
       "      <td>SofieHaug</td>\n",
       "      <td>SofieHaug_example_dataset</td>\n",
       "      <td>Deprecated 2024-08-08 10:24:30</td>\n",
       "      <td>{'archived': 'true'}</td>\n",
       "      <td>False</td>\n",
       "      <td>140804500368758</td>\n",
       "      <td>2024-06-28 12:09:07.105</td>\n",
       "      <td>2024-08-08 08:24:30.932</td>\n",
       "    </tr>\n",
       "    <tr>\n",
       "      <th>21</th>\n",
       "      <td>NaN</td>\n",
       "      <td>jonathan_world_info</td>\n",
       "      <td>Deprecated 2023-05-09 10:46:28</td>\n",
       "      <td>{'archived': 'true'}</td>\n",
       "      <td>True</td>\n",
       "      <td>145208858652069</td>\n",
       "      <td>2023-04-04 07:33:37.828</td>\n",
       "      <td>2023-05-09 08:46:28.991</td>\n",
       "    </tr>\n",
       "    <tr>\n",
       "      <th>22</th>\n",
       "      <td>NaN</td>\n",
       "      <td>Srujana_world_info</td>\n",
       "      <td>Deprecated 2023-11-28 09:05:42</td>\n",
       "      <td>{'archived': 'true'}</td>\n",
       "      <td>False</td>\n",
       "      <td>146987707262722</td>\n",
       "      <td>2023-08-07 13:58:08.406</td>\n",
       "      <td>2023-11-28 08:05:42.981</td>\n",
       "    </tr>\n",
       "    <tr>\n",
       "      <th>23</th>\n",
       "      <td>my_example_dataset_wu</td>\n",
       "      <td>my_example_dataset_wu</td>\n",
       "      <td>Deprecated 2023-05-09 10:46:29</td>\n",
       "      <td>{'archived': 'true'}</td>\n",
       "      <td>False</td>\n",
       "      <td>168085293540831</td>\n",
       "      <td>2023-01-27 18:10:16.355</td>\n",
       "      <td>2023-05-09 08:46:29.155</td>\n",
       "    </tr>\n",
       "    <tr>\n",
       "      <th>24</th>\n",
       "      <td>ole_wammer_world_info2</td>\n",
       "      <td>ole_wammer_world_info2</td>\n",
       "      <td>Deprecated 2024-08-08 10:24:31</td>\n",
       "      <td>{'archived': 'true'}</td>\n",
       "      <td>True</td>\n",
       "      <td>179556465647798</td>\n",
       "      <td>2024-07-05 10:26:00.662</td>\n",
       "      <td>2024-08-08 08:24:31.044</td>\n",
       "    </tr>\n",
       "  </tbody>\n",
       "</table>\n",
       "</div>"
      ],
      "text/plain": [
       "DataSetList([<cognite.client.data_classes.data_sets.DataSet at 0x1e927fe1fd0>,\n",
       "             <cognite.client.data_classes.data_sets.DataSet at 0x1e927ff5f50>,\n",
       "             <cognite.client.data_classes.data_sets.DataSet at 0x1e918ae96d0>,\n",
       "             <cognite.client.data_classes.data_sets.DataSet at 0x1e92800e590>,\n",
       "             <cognite.client.data_classes.data_sets.DataSet at 0x1e92800e550>,\n",
       "             <cognite.client.data_classes.data_sets.DataSet at 0x1e92801a990>,\n",
       "             <cognite.client.data_classes.data_sets.DataSet at 0x1e92801ab10>,\n",
       "             <cognite.client.data_classes.data_sets.DataSet at 0x1e928018550>,\n",
       "             <cognite.client.data_classes.data_sets.DataSet at 0x1e92801a890>,\n",
       "             <cognite.client.data_classes.data_sets.DataSet at 0x1e9278ef290>,\n",
       "             <cognite.client.data_classes.data_sets.DataSet at 0x1e928019b50>,\n",
       "             <cognite.client.data_classes.data_sets.DataSet at 0x1e92801bd50>,\n",
       "             <cognite.client.data_classes.data_sets.DataSet at 0x1e928040c90>,\n",
       "             <cognite.client.data_classes.data_sets.DataSet at 0x1e928040c50>,\n",
       "             <cognite.client.data_classes.data_sets.DataSet at 0x1e928040ad0>,\n",
       "             <cognite.client.data_classes.data_sets.DataSet at 0x1e928040c10>,\n",
       "             <cognite.client.data_classes.data_sets.DataSet at 0x1e928040bd0>,\n",
       "             <cognite.client.data_classes.data_sets.DataSet at 0x1e928040b90>,\n",
       "             <cognite.client.data_classes.data_sets.DataSet at 0x1e928040b50>,\n",
       "             <cognite.client.data_classes.data_sets.DataSet at 0x1e928040b10>,\n",
       "             <cognite.client.data_classes.data_sets.DataSet at 0x1e928040a90>,\n",
       "             <cognite.client.data_classes.data_sets.DataSet at 0x1e928040d10>,\n",
       "             <cognite.client.data_classes.data_sets.DataSet at 0x1e928040d90>,\n",
       "             <cognite.client.data_classes.data_sets.DataSet at 0x1e928040e10>,\n",
       "             <cognite.client.data_classes.data_sets.DataSet at 0x1e928040dd0>])"
      ]
     },
     "execution_count": 4,
     "metadata": {},
     "output_type": "execute_result"
    }
   ],
   "source": [
    "c.data_sets.list()"
   ]
  },
  {
   "attachments": {},
   "cell_type": "markdown",
   "metadata": {},
   "source": [
    "Add your prefix to make sure that the data we create are unique\n",
    "You can for example use your name as a prefix"
   ]
  },
  {
   "cell_type": "code",
   "execution_count": 5,
   "metadata": {},
   "outputs": [],
   "source": [
    "prefix = \"my_name\""
   ]
  },
  {
   "cell_type": "code",
   "execution_count": null,
   "metadata": {},
   "outputs": [],
   "source": [
    "ds = c.data_sets.create(DataSet(name=prefix+\"_example_dataset\",external_id=prefix))\n",
    "ds"
   ]
  },
  {
   "attachments": {},
   "cell_type": "markdown",
   "metadata": {},
   "source": [
    "When we create the other data objects, we will make sure they all goes into your data set"
   ]
  },
  {
   "cell_type": "code",
   "execution_count": null,
   "metadata": {},
   "outputs": [],
   "source": [
    "ds_id = ds.id"
   ]
  },
  {
   "cell_type": "markdown",
   "metadata": {
    "id": "9v6_yKkOEcqV"
   },
   "source": [
    "Labels"
   ]
  },
  {
   "cell_type": "code",
   "execution_count": null,
   "metadata": {
    "id": "TB2QTqxIEZEl"
   },
   "outputs": [],
   "source": [
    "from cognite.client.data_classes import LabelDefinition\n",
    "labels = [\n",
    "    LabelDefinition(\n",
    "        external_id=\"ROTATING_EQUIPMENT_\" + prefix,\n",
    "        name=\"Rotating equipment\",\n",
    "        data_set_id=ds_id,\n",
    "    ),\n",
    "    LabelDefinition(\n",
    "        external_id=\"PUMP_\" + prefix,\n",
    "        name=\"pump\",\n",
    "        data_set_id=ds_id,\n",
    "    )\n",
    "]\n",
    "res = c.labels.create(labels)"
   ]
  },
  {
   "cell_type": "code",
   "execution_count": null,
   "metadata": {},
   "outputs": [],
   "source": [
    "c.labels.list()"
   ]
  },
  {
   "cell_type": "markdown",
   "metadata": {
    "id": "OSXRtveaEfVA"
   },
   "source": [
    "Assets"
   ]
  },
  {
   "cell_type": "code",
   "execution_count": null,
   "metadata": {
    "id": "IxX1n5WAEg_n"
   },
   "outputs": [],
   "source": [
    "from cognite.client.data_classes import Asset\n",
    "assets = [Asset(name=\"asset1\",external_id=\"asset1_\"+prefix,data_set_id=ds_id), \n",
    "            Asset(name=\"asset2\",external_id=\"asset2_\"+prefix,data_set_id=ds_id)]\n",
    "res = c.assets.create(assets)"
   ]
  },
  {
   "cell_type": "code",
   "execution_count": null,
   "metadata": {},
   "outputs": [],
   "source": [
    "c.assets.list(data_set_ids=ds_id)"
   ]
  },
  {
   "cell_type": "markdown",
   "metadata": {
    "id": "YAsozuRdExtm"
   },
   "source": [
    "Timeseries"
   ]
  },
  {
   "cell_type": "code",
   "execution_count": null,
   "metadata": {
    "id": "gToz_Q_KEzZv"
   },
   "outputs": [],
   "source": [
    "from cognite.client.data_classes import TimeSeries\n",
    "ts = c.time_series.create(TimeSeries(name=\"timeseries_\"+prefix,external_id = \"timeseries_\"+prefix,data_set_id=ds_id ))"
   ]
  },
  {
   "cell_type": "code",
   "execution_count": null,
   "metadata": {},
   "outputs": [],
   "source": [
    "ts"
   ]
  },
  {
   "cell_type": "markdown",
   "metadata": {
    "id": "iJ_789Q0E5H6"
   },
   "source": [
    "Sequences"
   ]
  },
  {
   "cell_type": "code",
   "execution_count": null,
   "metadata": {
    "id": "hSh2ng1uE66C"
   },
   "outputs": [],
   "source": [
    "from cognite.client.data_classes import Sequence\n",
    "column_def = [{\"valueType\":\"STRING\",\"externalId\":\"user\",\"description\":\"some description\"},\n",
    "             {\"valueType\":\"DOUBLE\",\"externalId\":\"amount\"}]\n",
    "seq = c.sequences.create(Sequence(external_id=prefix+\"_test_sequence\",name=prefix+\" test sequence\", columns=column_def,data_set_id=ds_id ))"
   ]
  },
  {
   "cell_type": "markdown",
   "metadata": {
    "id": "P5P3tbMGE-FL"
   },
   "source": [
    "Files metadata"
   ]
  },
  {
   "cell_type": "code",
   "execution_count": null,
   "metadata": {
    "id": "SLpIHuY9FAaa"
   },
   "outputs": [],
   "source": [
    "from cognite.client.data_classes import FileMetadata\n",
    "file_metadata = FileMetadata(name=prefix+\" file\",external_id=prefix+\"_file\",data_set_id=ds_id)\n",
    "res = c.files.create(file_metadata)"
   ]
  },
  {
   "cell_type": "code",
   "execution_count": null,
   "metadata": {},
   "outputs": [],
   "source": [
    "res"
   ]
  },
  {
   "cell_type": "markdown",
   "metadata": {
    "id": "d9RvuDbUFJEf"
   },
   "source": [
    "Relationships"
   ]
  },
  {
   "cell_type": "code",
   "execution_count": null,
   "metadata": {
    "id": "zi28eza0FHv0"
   },
   "outputs": [],
   "source": [
    "from cognite.client.data_classes import Relationship\n",
    "flowrel1 = Relationship(external_id=prefix+\"_flow_12_test\", source_external_id=\"asset1_\"+prefix, source_type=\"asset\", target_external_id=\"asset2_\"+prefix, target_type=\"asset\", confidence=0.1, data_set_id=ds_id)\n",
    "flowrel2 = Relationship(external_id=prefix+\"_flow_21_test\", source_external_id=\"asset2_\"+prefix, source_type=\"asset\", target_external_id=\"asset1_\"+prefix, target_type=\"asset\", confidence=0.1, data_set_id=ds_id)\n",
    "res = c.relationships.create([flowrel1,flowrel2])"
   ]
  },
  {
   "cell_type": "code",
   "execution_count": null,
   "metadata": {},
   "outputs": [],
   "source": [
    "c.relationships.list()"
   ]
  },
  {
   "cell_type": "markdown",
   "metadata": {
    "id": "4m3pmjlFFRAT"
   },
   "source": [
    "Create Asset with Labels"
   ]
  },
  {
   "cell_type": "code",
   "execution_count": null,
   "metadata": {
    "id": "nW5H27-fFUYA"
   },
   "outputs": [],
   "source": [
    "from cognite.client.data_classes import Label\n",
    "asset = Asset(name=prefix+\"_test_pump\", labels=[Label(external_id=\"PUMP_\"+prefix)],data_set_id=ds_id)\n",
    "res = c.assets.create(asset)"
   ]
  },
  {
   "cell_type": "code",
   "execution_count": null,
   "metadata": {},
   "outputs": [],
   "source": [
    "res"
   ]
  },
  {
   "cell_type": "markdown",
   "metadata": {
    "id": "yoFhiwAPFVT5"
   },
   "source": [
    "Create Asset Hierarchy"
   ]
  },
  {
   "cell_type": "code",
   "execution_count": null,
   "metadata": {
    "id": "r1E317kKFZD0"
   },
   "outputs": [],
   "source": [
    "assets_list = [Asset(external_id=prefix+\"_root\", name=prefix+\" Root\",data_set_id=ds_id),\n",
    "          Asset(external_id=prefix+\"_child1\", parent_external_id=prefix+\"_root\", name=\"child1\",data_set_id=ds_id), \n",
    "          Asset(external_id=prefix+\"_child2\", parent_external_id=prefix+\"_root\", name=\"child2\",data_set_id=ds_id),\n",
    "          Asset(external_id=prefix+\"_child_of_child1\", parent_external_id=prefix+\"_child1\", name=\"child_of_child1\",data_set_id=ds_id)]\n",
    "res = c.assets.create_hierarchy(assets_list)"
   ]
  },
  {
   "cell_type": "code",
   "execution_count": null,
   "metadata": {},
   "outputs": [],
   "source": [
    "c.assets.retrieve_subtree(external_id=prefix+\"_root\")"
   ]
  },
  {
   "cell_type": "markdown",
   "metadata": {
    "id": "LAbedXzg7Yjp"
   },
   "source": [
    "## Update various resource types\n",
    "**Code Pattern**\n",
    "\n",
    "`client.<cdf_resource_type>.update()`"
   ]
  },
  {
   "cell_type": "markdown",
   "metadata": {
    "id": "H9Ch_ASeHbsA"
   },
   "source": [
    "Full Update"
   ]
  },
  {
   "cell_type": "code",
   "execution_count": null,
   "metadata": {},
   "outputs": [],
   "source": [
    "c.data_sets.list()"
   ]
  },
  {
   "cell_type": "code",
   "execution_count": null,
   "metadata": {
    "id": "ZMu5NAur7cRL"
   },
   "outputs": [],
   "source": [
    "data_set = c.data_sets.retrieve(id=ds_id)\n",
    "data_set"
   ]
  },
  {
   "cell_type": "code",
   "execution_count": null,
   "metadata": {},
   "outputs": [],
   "source": [
    "data_set.description = \"This is a Example Dataset\"\n",
    "res = c.data_sets.update(data_set)"
   ]
  },
  {
   "cell_type": "code",
   "execution_count": null,
   "metadata": {},
   "outputs": [],
   "source": [
    "res"
   ]
  },
  {
   "cell_type": "markdown",
   "metadata": {
    "id": "wefIF0aeHdit"
   },
   "source": [
    "Partial Update"
   ]
  },
  {
   "cell_type": "code",
   "execution_count": null,
   "metadata": {
    "id": "I26R9-9pHfuj"
   },
   "outputs": [],
   "source": [
    "from cognite.client.data_classes import DataSetUpdate\n",
    "my_update = DataSetUpdate(id=ds_id).description.set(\"New description with Partial Update\")#.metadata.remove([\"key\"])\n",
    "res = c.data_sets.update(my_update)"
   ]
  },
  {
   "cell_type": "code",
   "execution_count": null,
   "metadata": {},
   "outputs": [],
   "source": [
    "res"
   ]
  },
  {
   "cell_type": "code",
   "execution_count": null,
   "metadata": {
    "id": "bYnVwVIjGuRV"
   },
   "outputs": [],
   "source": [
    "from cognite.client.data_classes import AssetUpdate\n",
    "my_update = AssetUpdate(external_id=\"asset1_\"+prefix).description.set(\"New description using AssetUpdate\")#.metadata.add({\"key\": \"value\"})\n",
    "res1 = c.assets.update(my_update)"
   ]
  },
  {
   "cell_type": "code",
   "execution_count": null,
   "metadata": {},
   "outputs": [],
   "source": [
    "res1"
   ]
  },
  {
   "cell_type": "markdown",
   "metadata": {
    "id": "xp9DoF0aHtUW"
   },
   "source": [
    "Partial Update"
   ]
  },
  {
   "cell_type": "code",
   "execution_count": null,
   "metadata": {
    "id": "R4_TYNeaHvlU"
   },
   "outputs": [],
   "source": [
    "another_update = AssetUpdate(external_id=\"asset1_\"+prefix).description.set(None)\n",
    "res2 = c.assets.update(another_update)"
   ]
  },
  {
   "cell_type": "code",
   "execution_count": null,
   "metadata": {},
   "outputs": [],
   "source": [
    "res2"
   ]
  },
  {
   "cell_type": "markdown",
   "metadata": {
    "id": "70cp7y_RHwu5"
   },
   "source": [
    "\n",
    "\n",
    "---\n",
    "\n"
   ]
  },
  {
   "cell_type": "code",
   "execution_count": null,
   "metadata": {
    "id": "b5a2fR3JGxmx"
   },
   "outputs": [],
   "source": [
    "res = c.time_series.retrieve(external_id=\"timeseries_\"+prefix)\n",
    "res.description = \"New description\"\n",
    "res = c.time_series.update(res)\n",
    "res"
   ]
  },
  {
   "cell_type": "code",
   "execution_count": null,
   "metadata": {
    "id": "FwnmBJ5ZHRpk"
   },
   "outputs": [],
   "source": [
    "rel = c.relationships.retrieve(external_id=prefix+\"_flow_12_test\")\n",
    "rel.confidence = 0.75\n",
    "res = c.relationships.update(rel)\n",
    "res"
   ]
  },
  {
   "cell_type": "markdown",
   "metadata": {
    "id": "fuz3rX3c7c3a"
   },
   "source": [
    "## Insert the data in CDF\n",
    "\n",
    "**Code Pattern**\n",
    "`client.<cdf_resource_type>.insert()`"
   ]
  },
  {
   "cell_type": "markdown",
   "metadata": {
    "id": "Mu66W_NUILWr"
   },
   "source": [
    "### Insert the Datapoints/Rows"
   ]
  },
  {
   "attachments": {},
   "cell_type": "markdown",
   "metadata": {},
   "source": [
    "A datapoint consists of a value and a timestamp. We also need to tell which time series we want to write these datapoints into. \n",
    "We will use a time series that we created earlier and insert datapoints. "
   ]
  },
  {
   "cell_type": "code",
   "execution_count": null,
   "metadata": {
    "id": "Ku70KLW97gX6"
   },
   "outputs": [],
   "source": [
    "from datetime import datetime\n",
    "# with datetime objects\n",
    "datapoints = [(datetime(2020,1,1), 1000), (datetime(2020,1,2), 2000)]\n",
    "c.time_series.data.insert(datapoints, external_id=\"timeseries_\"+prefix)"
   ]
  },
  {
   "attachments": {},
   "cell_type": "markdown",
   "metadata": {},
   "source": [
    "We can use milliseconds when inserting datapoints as well"
   ]
  },
  {
   "cell_type": "code",
   "execution_count": null,
   "metadata": {},
   "outputs": [],
   "source": [
    "datapoints = [(1577836800000, 800), (1580515200000, 500)]\n",
    "c.time_series.data.insert(datapoints, external_id=\"timeseries_\"+prefix)"
   ]
  },
  {
   "attachments": {},
   "cell_type": "markdown",
   "metadata": {},
   "source": [
    "Look at the datapoints that was created"
   ]
  },
  {
   "cell_type": "code",
   "execution_count": null,
   "metadata": {},
   "outputs": [],
   "source": [
    "c.time_series.data.retrieve(external_id=\"timeseries_\"+prefix,start=datetime(2020,1,1),end=datetime(2021,1,1))"
   ]
  },
  {
   "cell_type": "code",
   "execution_count": null,
   "metadata": {},
   "outputs": [],
   "source": [
    "c.sequences.retrieve(external_id=prefix+\"_test_sequence\").columns"
   ]
  },
  {
   "cell_type": "code",
   "execution_count": null,
   "metadata": {
    "id": "VUjB8J6EIzMO"
   },
   "outputs": [],
   "source": [
    "data = [(1, ['user1',3.14]), (2, ['user2',2.72]) ]\n",
    "c.sequences.data.insert(columns=[\"user\",\"amount\"], rows=data, external_id=prefix+\"_test_sequence\")"
   ]
  },
  {
   "attachments": {},
   "cell_type": "markdown",
   "metadata": {},
   "source": [
    "Look at the sequences that was created"
   ]
  },
  {
   "cell_type": "code",
   "execution_count": null,
   "metadata": {},
   "outputs": [],
   "source": [
    "c.sequences.data.retrieve_dataframe(external_id=prefix+\"_test_sequence\",start=0,end=100)"
   ]
  },
  {
   "cell_type": "markdown",
   "metadata": {
    "id": "Db5IlvxWIQoS"
   },
   "source": [
    "### Insert the Dataframe"
   ]
  },
  {
   "cell_type": "code",
   "execution_count": null,
   "metadata": {},
   "outputs": [],
   "source": [
    "import pandas as pd\n",
    "from datetime import timedelta\n",
    "import numpy as np"
   ]
  },
  {
   "cell_type": "code",
   "execution_count": null,
   "metadata": {
    "id": "2WChF6E_ISyR"
   },
   "outputs": [],
   "source": [
    "ts_xid = \"timeseries_\"+prefix\n",
    "x = pd.date_range(start=\"2023\", freq=\"1d\", periods=100)\n",
    "y = np.random.normal(0, 1, 100)\n",
    "df = pd.DataFrame({ts_xid: y}, index=x)\n",
    "df"
   ]
  },
  {
   "cell_type": "code",
   "execution_count": null,
   "metadata": {},
   "outputs": [],
   "source": [
    "c.time_series.data.insert_dataframe(df, external_id_headers=True)"
   ]
  }
 ],
 "metadata": {
  "kernelspec": {
   "display_name": "Python 3",
   "language": "python",
   "name": "python3"
  },
  "language_info": {
   "codemirror_mode": {
    "name": "ipython",
    "version": 3
   },
   "file_extension": ".py",
   "mimetype": "text/x-python",
   "name": "python",
   "nbconvert_exporter": "python",
   "pygments_lexer": "ipython3",
   "version": "3.11.4"
  },
  "vscode": {
   "interpreter": {
    "hash": "44632770a8e081848b27e822703d69684fcad84b9999757e821a0f496acab079"
   }
  }
 },
 "nbformat": 4,
 "nbformat_minor": 2
}
