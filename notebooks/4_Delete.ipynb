{
 "cells": [
  {
   "cell_type": "markdown",
   "metadata": {},
   "source": [
    "# Copyright 2022 Cognite AS\n",
    "\n",
    "## Import the Libraries and Modules"
   ]
  },
  {
   "cell_type": "code",
   "execution_count": 1,
   "metadata": {},
   "outputs": [],
   "source": [
    "import sys\n",
    "from pathlib import Path\n",
    "\n",
    "utils = str(Path(\"../utils\").resolve())\n",
    "if utils not in sys.path:\n",
    "    sys.path.append(utils)\n",
    "\n",
    "from cognite_auth import interactive_client"
   ]
  },
  {
   "cell_type": "markdown",
   "metadata": {},
   "source": [
    "## Create the Cognite Client"
   ]
  },
  {
   "cell_type": "code",
   "execution_count": 2,
   "metadata": {},
   "outputs": [],
   "source": [
    "c = client = interactive_client()"
   ]
  },
  {
   "cell_type": "markdown",
   "metadata": {
    "id": "to6T4ull7hHW"
   },
   "source": [
    "## Delete the data in CDF"
   ]
  },
  {
   "cell_type": "markdown",
   "metadata": {
    "id": "0gyLyxaeJYnP"
   },
   "source": [
    "### Delete using ids"
   ]
  },
  {
   "cell_type": "code",
   "execution_count": 12,
   "metadata": {},
   "outputs": [],
   "source": [
    "#Please use the same prefix as in the 3_Create_Update_insert notebook. If it is already defined, it's all good! If not, remove \"#\" from the line below and use the same prefix as when you created the data\n",
    "\n",
    "prefix = \"My_Prefix\""
   ]
  },
  {
   "cell_type": "code",
   "execution_count": 13,
   "metadata": {},
   "outputs": [
    {
     "data": {
      "text/html": [
       "<div>\n",
       "<style scoped>\n",
       "    .dataframe tbody tr th:only-of-type {\n",
       "        vertical-align: middle;\n",
       "    }\n",
       "\n",
       "    .dataframe tbody tr th {\n",
       "        vertical-align: top;\n",
       "    }\n",
       "\n",
       "    .dataframe thead th {\n",
       "        text-align: right;\n",
       "    }\n",
       "</style>\n",
       "<table border=\"1\" class=\"dataframe\">\n",
       "  <thead>\n",
       "    <tr style=\"text-align: right;\">\n",
       "      <th></th>\n",
       "      <th>user</th>\n",
       "      <th>amount</th>\n",
       "    </tr>\n",
       "  </thead>\n",
       "  <tbody>\n",
       "  </tbody>\n",
       "</table>\n",
       "</div>"
      ],
      "text/plain": [
       "Empty DataFrame\n",
       "Columns: [user, amount]\n",
       "Index: []"
      ]
     },
     "execution_count": 13,
     "metadata": {},
     "output_type": "execute_result"
    }
   ],
   "source": [
    "c.sequences.data.retrieve_dataframe(external_id=prefix+\"_test_sequence\",start=0,end=None)"
   ]
  },
  {
   "attachments": {},
   "cell_type": "markdown",
   "metadata": {},
   "source": [
    "Deleting a row from the sequence table"
   ]
  },
  {
   "cell_type": "code",
   "execution_count": 9,
   "metadata": {
    "id": "lAH4oq3PJyvB"
   },
   "outputs": [],
   "source": [
    "c.sequences.data.delete(external_id=prefix+\"_test_sequence\", rows=[2])"
   ]
  },
  {
   "attachments": {},
   "cell_type": "markdown",
   "metadata": {},
   "source": [
    "Looking at the result after the delete"
   ]
  },
  {
   "cell_type": "code",
   "execution_count": 14,
   "metadata": {},
   "outputs": [
    {
     "data": {
      "text/html": [
       "<div>\n",
       "<style scoped>\n",
       "    .dataframe tbody tr th:only-of-type {\n",
       "        vertical-align: middle;\n",
       "    }\n",
       "\n",
       "    .dataframe tbody tr th {\n",
       "        vertical-align: top;\n",
       "    }\n",
       "\n",
       "    .dataframe thead th {\n",
       "        text-align: right;\n",
       "    }\n",
       "</style>\n",
       "<table border=\"1\" class=\"dataframe\">\n",
       "  <thead>\n",
       "    <tr style=\"text-align: right;\">\n",
       "      <th></th>\n",
       "      <th>user</th>\n",
       "      <th>amount</th>\n",
       "    </tr>\n",
       "  </thead>\n",
       "  <tbody>\n",
       "  </tbody>\n",
       "</table>\n",
       "</div>"
      ],
      "text/plain": [
       "Empty DataFrame\n",
       "Columns: [user, amount]\n",
       "Index: []"
      ]
     },
     "execution_count": 14,
     "metadata": {},
     "output_type": "execute_result"
    }
   ],
   "source": [
    "c.sequences.data.retrieve_dataframe(external_id=prefix+\"_test_sequence\",start=0,end=None)"
   ]
  },
  {
   "cell_type": "markdown",
   "metadata": {
    "id": "9lSf4XnUJfMB"
   },
   "source": [
    "### Delete using a Range"
   ]
  },
  {
   "cell_type": "code",
   "execution_count": 15,
   "metadata": {},
   "outputs": [
    {
     "data": {
      "text/html": [
       "<div>\n",
       "<style scoped>\n",
       "    .dataframe tbody tr th:only-of-type {\n",
       "        vertical-align: middle;\n",
       "    }\n",
       "\n",
       "    .dataframe tbody tr th {\n",
       "        vertical-align: top;\n",
       "    }\n",
       "\n",
       "    .dataframe thead th {\n",
       "        text-align: right;\n",
       "    }\n",
       "</style>\n",
       "<table border=\"1\" class=\"dataframe\">\n",
       "  <thead>\n",
       "    <tr style=\"text-align: right;\">\n",
       "      <th></th>\n",
       "      <th>timeseries_My_Prefix</th>\n",
       "    </tr>\n",
       "  </thead>\n",
       "  <tbody>\n",
       "    <tr>\n",
       "      <th>2019-12-31 18:30:00</th>\n",
       "      <td>1000.0</td>\n",
       "    </tr>\n",
       "    <tr>\n",
       "      <th>2020-01-01 00:00:00</th>\n",
       "      <td>800.0</td>\n",
       "    </tr>\n",
       "    <tr>\n",
       "      <th>2020-01-01 18:30:00</th>\n",
       "      <td>2000.0</td>\n",
       "    </tr>\n",
       "    <tr>\n",
       "      <th>2020-02-01 00:00:00</th>\n",
       "      <td>500.0</td>\n",
       "    </tr>\n",
       "  </tbody>\n",
       "</table>\n",
       "</div>"
      ],
      "text/plain": [
       "<cognite.client.data_classes.datapoints.Datapoints at 0x13e8bea22d0>"
      ]
     },
     "execution_count": 15,
     "metadata": {},
     "output_type": "execute_result"
    }
   ],
   "source": [
    "from datetime import datetime\n",
    "\n",
    "c.time_series.data.retrieve(start=(datetime(2020,1,1)), end=(datetime(2021,1,1)), external_id=\"timeseries_\"+prefix)"
   ]
  },
  {
   "attachments": {},
   "cell_type": "markdown",
   "metadata": {},
   "source": [
    "Deleting data in a specific timerange"
   ]
  },
  {
   "cell_type": "code",
   "execution_count": 16,
   "metadata": {
    "id": "KpjV-Y8mJh6P"
   },
   "outputs": [],
   "source": [
    "from datetime import datetime\n",
    "\n",
    "c.time_series.data.delete_range(start=(datetime(2020,1,1)), end=(datetime(2020,2,2)), external_id=\"timeseries_\"+prefix)"
   ]
  },
  {
   "attachments": {},
   "cell_type": "markdown",
   "metadata": {},
   "source": [
    "Looking at the data we have left after the deletion "
   ]
  },
  {
   "cell_type": "code",
   "execution_count": 17,
   "metadata": {},
   "outputs": [
    {
     "data": {
      "text/html": [
       "<div>\n",
       "<style scoped>\n",
       "    .dataframe tbody tr th:only-of-type {\n",
       "        vertical-align: middle;\n",
       "    }\n",
       "\n",
       "    .dataframe tbody tr th {\n",
       "        vertical-align: top;\n",
       "    }\n",
       "\n",
       "    .dataframe thead th {\n",
       "        text-align: right;\n",
       "    }\n",
       "</style>\n",
       "<table border=\"1\" class=\"dataframe\">\n",
       "  <thead>\n",
       "    <tr style=\"text-align: right;\">\n",
       "      <th></th>\n",
       "      <th>timeseries_My_Prefix</th>\n",
       "    </tr>\n",
       "  </thead>\n",
       "  <tbody>\n",
       "  </tbody>\n",
       "</table>\n",
       "</div>"
      ],
      "text/plain": [
       "<cognite.client.data_classes.datapoints.Datapoints at 0x13e8c6fbe10>"
      ]
     },
     "execution_count": 17,
     "metadata": {},
     "output_type": "execute_result"
    }
   ],
   "source": [
    "from datetime import datetime\n",
    "\n",
    "c.time_series.data.retrieve(start=(datetime(2020,1,1)), end=(datetime(2021,1,1)), external_id=\"timeseries_\"+prefix)"
   ]
  },
  {
   "cell_type": "markdown",
   "metadata": {
    "id": "GsdtFcFSJVHk"
   },
   "source": [
    "### Delete various resource types"
   ]
  },
  {
   "cell_type": "code",
   "execution_count": 18,
   "metadata": {
    "id": "tQldwsHGKMYn"
   },
   "outputs": [],
   "source": [
    "c.labels.delete(external_id=[\"ROTATING_EQUIPMENT_\"+prefix, \"PUMP_\"+prefix])"
   ]
  },
  {
   "cell_type": "code",
   "execution_count": 19,
   "metadata": {
    "id": "j62xAi52KMWx"
   },
   "outputs": [],
   "source": [
    "c.assets.delete(external_id=\"asset1_\"+prefix)"
   ]
  },
  {
   "cell_type": "code",
   "execution_count": 20,
   "metadata": {
    "id": "5JWuCkv9KMS1"
   },
   "outputs": [],
   "source": [
    "c.time_series.delete(external_id=\"timeseries_\"+prefix)"
   ]
  },
  {
   "cell_type": "markdown",
   "metadata": {},
   "source": [
    "## Bulk Deletion"
   ]
  },
  {
   "cell_type": "markdown",
   "metadata": {
    "id": "a3ZTLTwMStVe"
   },
   "source": [
    "How to delete recursively and effectively."
   ]
  },
  {
   "cell_type": "code",
   "execution_count": 21,
   "metadata": {},
   "outputs": [
    {
     "data": {
      "text/html": [
       "<div>\n",
       "<style scoped>\n",
       "    .dataframe tbody tr th:only-of-type {\n",
       "        vertical-align: middle;\n",
       "    }\n",
       "\n",
       "    .dataframe tbody tr th {\n",
       "        vertical-align: top;\n",
       "    }\n",
       "\n",
       "    .dataframe thead th {\n",
       "        text-align: right;\n",
       "    }\n",
       "</style>\n",
       "<table border=\"1\" class=\"dataframe\">\n",
       "  <thead>\n",
       "    <tr style=\"text-align: right;\">\n",
       "      <th></th>\n",
       "      <th>external_id</th>\n",
       "      <th>name</th>\n",
       "      <th>data_set_id</th>\n",
       "      <th>metadata</th>\n",
       "      <th>id</th>\n",
       "      <th>created_time</th>\n",
       "      <th>last_updated_time</th>\n",
       "      <th>root_id</th>\n",
       "      <th>parent_id</th>\n",
       "      <th>parent_external_id</th>\n",
       "    </tr>\n",
       "  </thead>\n",
       "  <tbody>\n",
       "    <tr>\n",
       "      <th>0</th>\n",
       "      <td>My_Prefix_root</td>\n",
       "      <td>My_Prefix Root</td>\n",
       "      <td>7954497947800251</td>\n",
       "      <td>{}</td>\n",
       "      <td>7426575356979301</td>\n",
       "      <td>2024-09-16 11:41:40.329</td>\n",
       "      <td>2024-09-16 11:41:40.329</td>\n",
       "      <td>7426575356979301</td>\n",
       "      <td>&lt;NA&gt;</td>\n",
       "      <td>NaN</td>\n",
       "    </tr>\n",
       "    <tr>\n",
       "      <th>1</th>\n",
       "      <td>My_Prefix_child1</td>\n",
       "      <td>child1</td>\n",
       "      <td>7954497947800251</td>\n",
       "      <td>{}</td>\n",
       "      <td>612024077343850</td>\n",
       "      <td>2024-09-16 11:41:40.329</td>\n",
       "      <td>2024-09-16 11:41:40.329</td>\n",
       "      <td>7426575356979301</td>\n",
       "      <td>7426575356979301</td>\n",
       "      <td>My_Prefix_root</td>\n",
       "    </tr>\n",
       "    <tr>\n",
       "      <th>2</th>\n",
       "      <td>My_Prefix_child2</td>\n",
       "      <td>child2</td>\n",
       "      <td>7954497947800251</td>\n",
       "      <td>{}</td>\n",
       "      <td>6402720148303080</td>\n",
       "      <td>2024-09-16 11:41:40.329</td>\n",
       "      <td>2024-09-16 11:41:40.329</td>\n",
       "      <td>7426575356979301</td>\n",
       "      <td>7426575356979301</td>\n",
       "      <td>My_Prefix_root</td>\n",
       "    </tr>\n",
       "    <tr>\n",
       "      <th>3</th>\n",
       "      <td>My_Prefix_child_of_child1</td>\n",
       "      <td>child_of_child1</td>\n",
       "      <td>7954497947800251</td>\n",
       "      <td>{}</td>\n",
       "      <td>7301090258208056</td>\n",
       "      <td>2024-09-16 11:41:40.329</td>\n",
       "      <td>2024-09-16 11:41:40.329</td>\n",
       "      <td>7426575356979301</td>\n",
       "      <td>612024077343850</td>\n",
       "      <td>My_Prefix_child1</td>\n",
       "    </tr>\n",
       "  </tbody>\n",
       "</table>\n",
       "</div>"
      ],
      "text/plain": [
       "AssetList([<cognite.client.data_classes.assets.Asset at 0x13e8c8e1190>,\n",
       "           <cognite.client.data_classes.assets.Asset at 0x13e8c8e9c50>,\n",
       "           <cognite.client.data_classes.assets.Asset at 0x13e8c8eb290>,\n",
       "           <cognite.client.data_classes.assets.Asset at 0x13e8c903690>])"
      ]
     },
     "execution_count": 21,
     "metadata": {},
     "output_type": "execute_result"
    }
   ],
   "source": [
    "c.assets.retrieve_subtree(external_id=prefix+\"_root\")"
   ]
  },
  {
   "attachments": {},
   "cell_type": "markdown",
   "metadata": {},
   "source": [
    "Deleting the root asset and all the assets under the specific root asset."
   ]
  },
  {
   "cell_type": "code",
   "execution_count": 22,
   "metadata": {},
   "outputs": [],
   "source": [
    "# Delete root and all subtree assets:\n",
    "c.assets.delete(external_id=prefix+\"_root\", recursive=True)"
   ]
  },
  {
   "attachments": {},
   "cell_type": "markdown",
   "metadata": {},
   "source": [
    "We can now look at the assets in our data set and see that it is empty"
   ]
  },
  {
   "cell_type": "code",
   "execution_count": 23,
   "metadata": {},
   "outputs": [
    {
     "data": {
      "text/html": [
       "<div>\n",
       "<style scoped>\n",
       "    .dataframe tbody tr th:only-of-type {\n",
       "        vertical-align: middle;\n",
       "    }\n",
       "\n",
       "    .dataframe tbody tr th {\n",
       "        vertical-align: top;\n",
       "    }\n",
       "\n",
       "    .dataframe thead th {\n",
       "        text-align: right;\n",
       "    }\n",
       "</style>\n",
       "<table border=\"1\" class=\"dataframe\">\n",
       "  <thead>\n",
       "    <tr style=\"text-align: right;\">\n",
       "      <th></th>\n",
       "      <th>name</th>\n",
       "      <th>data_set_id</th>\n",
       "      <th>metadata</th>\n",
       "      <th>labels</th>\n",
       "      <th>id</th>\n",
       "      <th>created_time</th>\n",
       "      <th>last_updated_time</th>\n",
       "      <th>root_id</th>\n",
       "      <th>external_id</th>\n",
       "    </tr>\n",
       "  </thead>\n",
       "  <tbody>\n",
       "    <tr>\n",
       "      <th>0</th>\n",
       "      <td>My_Prefix_test_pump</td>\n",
       "      <td>7954497947800251</td>\n",
       "      <td>{}</td>\n",
       "      <td>[{'external_id': 'PUMP_My_Prefix'}]</td>\n",
       "      <td>888554096935235</td>\n",
       "      <td>2024-09-16 11:41:30.521</td>\n",
       "      <td>2024-09-16 11:41:30.521</td>\n",
       "      <td>888554096935235</td>\n",
       "      <td>NaN</td>\n",
       "    </tr>\n",
       "    <tr>\n",
       "      <th>1</th>\n",
       "      <td>asset2</td>\n",
       "      <td>7954497947800251</td>\n",
       "      <td>{}</td>\n",
       "      <td>NaN</td>\n",
       "      <td>5551029858893012</td>\n",
       "      <td>2024-09-16 11:39:56.765</td>\n",
       "      <td>2024-09-16 11:39:56.765</td>\n",
       "      <td>5551029858893012</td>\n",
       "      <td>asset2_My_Prefix</td>\n",
       "    </tr>\n",
       "  </tbody>\n",
       "</table>\n",
       "</div>"
      ],
      "text/plain": [
       "AssetList([<cognite.client.data_classes.assets.Asset at 0x13e8c8ea510>,\n",
       "           <cognite.client.data_classes.assets.Asset at 0x13e8a3c4a50>])"
      ]
     },
     "execution_count": 23,
     "metadata": {},
     "output_type": "execute_result"
    }
   ],
   "source": [
    "c.assets.list(data_set_external_ids=[prefix])"
   ]
  },
  {
   "attachments": {},
   "cell_type": "markdown",
   "metadata": {},
   "source": [
    "If the data set is not empty, we can run this code to delete the remaining assets"
   ]
  },
  {
   "cell_type": "code",
   "execution_count": 24,
   "metadata": {},
   "outputs": [],
   "source": [
    "assets_ids=[]\n",
    "\n",
    "for asset in c.assets.list(data_set_external_ids=[prefix], limit=-1):\n",
    "    assets_ids.append(asset.id)\n",
    "\n",
    "c.assets.delete(id=assets_ids)"
   ]
  },
  {
   "cell_type": "code",
   "execution_count": null,
   "metadata": {},
   "outputs": [],
   "source": []
  }
 ],
 "metadata": {
  "kernelspec": {
   "display_name": "Python 3",
   "language": "python",
   "name": "python3"
  },
  "language_info": {
   "codemirror_mode": {
    "name": "ipython",
    "version": 3
   },
   "file_extension": ".py",
   "mimetype": "text/x-python",
   "name": "python",
   "nbconvert_exporter": "python",
   "pygments_lexer": "ipython3",
   "version": "3.11.4"
  },
  "vscode": {
   "interpreter": {
    "hash": "44632770a8e081848b27e822703d69684fcad84b9999757e821a0f496acab079"
   }
  }
 },
 "nbformat": 4,
 "nbformat_minor": 2
}
