{
 "cells": [
  {
   "cell_type": "markdown",
   "id": "eb59dea9",
   "metadata": {},
   "source": [
    "# Create the Cognite Client"
   ]
  },
  {
   "cell_type": "code",
   "execution_count": 1,
   "id": "5bd2075d",
   "metadata": {},
   "outputs": [],
   "source": [
    "import sys\n",
    "from pathlib import Path\n",
    "\n",
    "utils = str(Path(\"../utils\").resolve())\n",
    "if utils not in sys.path:\n",
    "    sys.path.append(utils)\n",
    "\n",
    "from cognite_auth import interactive_client\n",
    "\n",
    "client = interactive_client()"
   ]
  },
  {
   "cell_type": "markdown",
   "id": "2923a334",
   "metadata": {},
   "source": [
    "# 1 Create a data set"
   ]
  },
  {
   "cell_type": "code",
   "execution_count": 3,
   "id": "138523f6",
   "metadata": {},
   "outputs": [
    {
     "name": "stdout",
     "output_type": "stream",
     "text": [
      "1029164115014335\n"
     ]
    }
   ],
   "source": [
    "from cognite.client.data_classes import DataSet\n",
    "\n",
    "my_data_set = DataSet(external_id = 'prefix', name = 'prefix')\n",
    "\n",
    "created_data_set = client.data_sets.create(my_data_set)\n",
    "\n",
    "data_set_id = created_data_set.id\n",
    "\n",
    "print(data_set_id)"
   ]
  },
  {
   "cell_type": "markdown",
   "id": "0ce0ee5d",
   "metadata": {},
   "source": [
    "# 2 Create Asset Hierarchy"
   ]
  },
  {
   "cell_type": "code",
   "execution_count": 4,
   "id": "a0be99f5",
   "metadata": {},
   "outputs": [
    {
     "data": {
      "text/html": [
       "<div>\n",
       "<style scoped>\n",
       "    .dataframe tbody tr th:only-of-type {\n",
       "        vertical-align: middle;\n",
       "    }\n",
       "\n",
       "    .dataframe tbody tr th {\n",
       "        vertical-align: top;\n",
       "    }\n",
       "\n",
       "    .dataframe thead th {\n",
       "        text-align: right;\n",
       "    }\n",
       "</style>\n",
       "<table border=\"1\" class=\"dataframe\">\n",
       "  <thead>\n",
       "    <tr style=\"text-align: right;\">\n",
       "      <th></th>\n",
       "      <th>value</th>\n",
       "    </tr>\n",
       "  </thead>\n",
       "  <tbody>\n",
       "    <tr>\n",
       "      <th>name</th>\n",
       "      <td>world</td>\n",
       "    </tr>\n",
       "    <tr>\n",
       "      <th>data_set_id</th>\n",
       "      <td>1029164115014335</td>\n",
       "    </tr>\n",
       "    <tr>\n",
       "      <th>metadata</th>\n",
       "      <td>{}</td>\n",
       "    </tr>\n",
       "    <tr>\n",
       "      <th>id</th>\n",
       "      <td>8329621812797429</td>\n",
       "    </tr>\n",
       "    <tr>\n",
       "      <th>created_time</th>\n",
       "      <td>2024-09-17 07:46:13.496000</td>\n",
       "    </tr>\n",
       "    <tr>\n",
       "      <th>last_updated_time</th>\n",
       "      <td>2024-09-17 07:46:13.496000</td>\n",
       "    </tr>\n",
       "    <tr>\n",
       "      <th>root_id</th>\n",
       "      <td>8329621812797429</td>\n",
       "    </tr>\n",
       "  </tbody>\n",
       "</table>\n",
       "</div>"
      ],
      "text/plain": [
       "<cognite.client.data_classes.assets.Asset at 0x1ebd6f1ed50>"
      ]
     },
     "execution_count": 4,
     "metadata": {},
     "output_type": "execute_result"
    }
   ],
   "source": [
    "from cognite.client.data_classes import Asset\n",
    "\n",
    "# Create Root Asset\n",
    "root_asset = client.assets.create(Asset(name='world', data_set_id=data_set_id))\n",
    "root_asset"
   ]
  },
  {
   "cell_type": "code",
   "execution_count": 5,
   "id": "883758dc",
   "metadata": {},
   "outputs": [
    {
     "data": {
      "text/html": [
       "<div>\n",
       "<style scoped>\n",
       "    .dataframe tbody tr th:only-of-type {\n",
       "        vertical-align: middle;\n",
       "    }\n",
       "\n",
       "    .dataframe tbody tr th {\n",
       "        vertical-align: top;\n",
       "    }\n",
       "\n",
       "    .dataframe thead th {\n",
       "        text-align: right;\n",
       "    }\n",
       "</style>\n",
       "<table border=\"1\" class=\"dataframe\">\n",
       "  <thead>\n",
       "    <tr style=\"text-align: right;\">\n",
       "      <th></th>\n",
       "      <th>value</th>\n",
       "    </tr>\n",
       "  </thead>\n",
       "  <tbody>\n",
       "    <tr>\n",
       "      <th>name</th>\n",
       "      <td>global</td>\n",
       "    </tr>\n",
       "    <tr>\n",
       "      <th>data_set_id</th>\n",
       "      <td>1029164115014335</td>\n",
       "    </tr>\n",
       "    <tr>\n",
       "      <th>metadata</th>\n",
       "      <td>{}</td>\n",
       "    </tr>\n",
       "    <tr>\n",
       "      <th>id</th>\n",
       "      <td>8329621812797429</td>\n",
       "    </tr>\n",
       "    <tr>\n",
       "      <th>created_time</th>\n",
       "      <td>2024-09-17 07:46:13.496000</td>\n",
       "    </tr>\n",
       "    <tr>\n",
       "      <th>last_updated_time</th>\n",
       "      <td>2024-09-17 07:46:17.596000</td>\n",
       "    </tr>\n",
       "    <tr>\n",
       "      <th>root_id</th>\n",
       "      <td>8329621812797429</td>\n",
       "    </tr>\n",
       "  </tbody>\n",
       "</table>\n",
       "</div>"
      ],
      "text/plain": [
       "<cognite.client.data_classes.assets.Asset at 0x1ebd7587250>"
      ]
     },
     "execution_count": 5,
     "metadata": {},
     "output_type": "execute_result"
    }
   ],
   "source": [
    "from cognite.client.data_classes import AssetUpdate\n",
    "\n",
    "# Update the name of the root asset\n",
    "my_update = AssetUpdate(id=root_asset.id).name.set(\"global\")\n",
    "client.assets.update(my_update)"
   ]
  },
  {
   "cell_type": "code",
   "execution_count": 6,
   "id": "802b3c21",
   "metadata": {},
   "outputs": [
    {
     "data": {
      "text/plain": [
       "array(['Asia', 'Europe', 'Africa', 'Oceania', 'Americas', nan],\n",
       "      dtype=object)"
      ]
     },
     "execution_count": 6,
     "metadata": {},
     "output_type": "execute_result"
    }
   ],
   "source": [
    "import pandas as pd\n",
    "\n",
    "# Read country data and see all unique regions\n",
    "df = pd.read_csv('../data/all_countries.csv')\n",
    "df['region'].unique()"
   ]
  },
  {
   "cell_type": "code",
   "execution_count": 7,
   "id": "cab4b39a",
   "metadata": {},
   "outputs": [
    {
     "ename": "ValueError",
     "evalue": "Out of range float values are not JSON compliant. Make sure your data does not contain NaN(s) or +/- Inf!",
     "output_type": "error",
     "traceback": [
      "\u001b[1;31m---------------------------------------------------------------------------\u001b[0m",
      "\u001b[1;31mValueError\u001b[0m                                Traceback (most recent call last)",
      "Cell \u001b[1;32mIn[7], line 7\u001b[0m\n\u001b[0;32m      4\u001b[0m     asset\u001b[38;5;241m=\u001b[39mAsset(name\u001b[38;5;241m=\u001b[39mregion, data_set_id\u001b[38;5;241m=\u001b[39mdata_set_id,parent_id\u001b[38;5;241m=\u001b[39mroot_asset\u001b[38;5;241m.\u001b[39mid)\n\u001b[0;32m      5\u001b[0m     store\u001b[38;5;241m.\u001b[39mappend(asset)\n\u001b[1;32m----> 7\u001b[0m \u001b[43mclient\u001b[49m\u001b[38;5;241;43m.\u001b[39;49m\u001b[43massets\u001b[49m\u001b[38;5;241;43m.\u001b[39;49m\u001b[43mcreate\u001b[49m\u001b[43m(\u001b[49m\u001b[43mstore\u001b[49m\u001b[43m)\u001b[49m\n",
      "File \u001b[1;32mc:\\Users\\RaushanK1\\AppData\\Local\\Programs\\Python\\Python311\\Lib\\site-packages\\cognite\\client\\_api\\assets.py:594\u001b[0m, in \u001b[0;36mAssetsAPI.create\u001b[1;34m(self, asset)\u001b[0m\n\u001b[0;32m    563\u001b[0m \u001b[38;5;250m\u001b[39m\u001b[38;5;124;03m\"\"\"`Create one or more assets. <https://developer.cognite.com/api#tag/Assets/operation/createAssets>`_\u001b[39;00m\n\u001b[0;32m    564\u001b[0m \n\u001b[0;32m    565\u001b[0m \u001b[38;5;124;03mYou can create an arbitrary number of assets, and the SDK will split the request into multiple requests.\u001b[39;00m\n\u001b[1;32m   (...)\u001b[0m\n\u001b[0;32m    590\u001b[0m \u001b[38;5;124;03m        >>> res = client.assets.create(asset)\u001b[39;00m\n\u001b[0;32m    591\u001b[0m \u001b[38;5;124;03m\"\"\"\u001b[39;00m\n\u001b[0;32m    592\u001b[0m assert_type(asset, \u001b[38;5;124m\"\u001b[39m\u001b[38;5;124masset\u001b[39m\u001b[38;5;124m\"\u001b[39m, [AssetCore, Sequence])\n\u001b[1;32m--> 594\u001b[0m \u001b[38;5;28;01mreturn\u001b[39;00m \u001b[38;5;28;43mself\u001b[39;49m\u001b[38;5;241;43m.\u001b[39;49m\u001b[43m_create_multiple\u001b[49m\u001b[43m(\u001b[49m\u001b[43mlist_cls\u001b[49m\u001b[38;5;241;43m=\u001b[39;49m\u001b[43mAssetList\u001b[49m\u001b[43m,\u001b[49m\u001b[43m \u001b[49m\u001b[43mresource_cls\u001b[49m\u001b[38;5;241;43m=\u001b[39;49m\u001b[43mAsset\u001b[49m\u001b[43m,\u001b[49m\u001b[43m \u001b[49m\u001b[43mitems\u001b[49m\u001b[38;5;241;43m=\u001b[39;49m\u001b[43masset\u001b[49m\u001b[43m,\u001b[49m\u001b[43m \u001b[49m\u001b[43minput_resource_cls\u001b[49m\u001b[38;5;241;43m=\u001b[39;49m\u001b[43mAssetWrite\u001b[49m\u001b[43m)\u001b[49m\n",
      "File \u001b[1;32mc:\\Users\\RaushanK1\\AppData\\Local\\Programs\\Python\\Python311\\Lib\\site-packages\\cognite\\client\\_api_client.py:946\u001b[0m, in \u001b[0;36mAPIClient._create_multiple\u001b[1;34m(self, items, list_cls, resource_cls, resource_path, params, headers, extra_body_fields, limit, input_resource_cls, executor, api_subversion)\u001b[0m\n\u001b[0;32m    943\u001b[0m         \u001b[38;5;28;01mreturn\u001b[39;00m dumped\n\u001b[0;32m    944\u001b[0m     \u001b[38;5;28;01mreturn\u001b[39;00m el\n\u001b[1;32m--> 946\u001b[0m \u001b[43msummary\u001b[49m\u001b[38;5;241;43m.\u001b[39;49m\u001b[43mraise_compound_exception_if_failed_tasks\u001b[49m\u001b[43m(\u001b[49m\n\u001b[0;32m    947\u001b[0m \u001b[43m    \u001b[49m\u001b[43mtask_unwrap_fn\u001b[49m\u001b[38;5;241;43m=\u001b[39;49m\u001b[38;5;28;43;01mlambda\u001b[39;49;00m\u001b[43m \u001b[49m\u001b[43mtask\u001b[49m\u001b[43m:\u001b[49m\u001b[43m \u001b[49m\u001b[43mtask\u001b[49m\u001b[43m[\u001b[49m\u001b[38;5;241;43m1\u001b[39;49m\u001b[43m]\u001b[49m\u001b[43m[\u001b[49m\u001b[38;5;124;43m\"\u001b[39;49m\u001b[38;5;124;43mitems\u001b[39;49m\u001b[38;5;124;43m\"\u001b[39;49m\u001b[43m]\u001b[49m\u001b[43m,\u001b[49m\n\u001b[0;32m    948\u001b[0m \u001b[43m    \u001b[49m\u001b[43mtask_list_element_unwrap_fn\u001b[49m\u001b[38;5;241;43m=\u001b[39;49m\u001b[43munwrap_element\u001b[49m\u001b[43m,\u001b[49m\n\u001b[0;32m    949\u001b[0m \u001b[43m    \u001b[49m\u001b[43mstr_format_element_fn\u001b[49m\u001b[38;5;241;43m=\u001b[39;49m\u001b[43mstr_format_element\u001b[49m\u001b[43m,\u001b[49m\n\u001b[0;32m    950\u001b[0m \u001b[43m\u001b[49m\u001b[43m)\u001b[49m\n\u001b[0;32m    951\u001b[0m created_resources \u001b[38;5;241m=\u001b[39m summary\u001b[38;5;241m.\u001b[39mjoined_results(\u001b[38;5;28;01mlambda\u001b[39;00m res: res\u001b[38;5;241m.\u001b[39mjson()[\u001b[38;5;124m\"\u001b[39m\u001b[38;5;124mitems\u001b[39m\u001b[38;5;124m\"\u001b[39m])\n\u001b[0;32m    953\u001b[0m \u001b[38;5;28;01mif\u001b[39;00m single_item:\n",
      "File \u001b[1;32mc:\\Users\\RaushanK1\\AppData\\Local\\Programs\\Python\\Python311\\Lib\\site-packages\\cognite\\client\\utils\\_concurrency.py:78\u001b[0m, in \u001b[0;36mTasksSummary.raise_compound_exception_if_failed_tasks\u001b[1;34m(self, task_unwrap_fn, task_list_element_unwrap_fn, str_format_element_fn)\u001b[0m\n\u001b[0;32m     76\u001b[0m task_lists \u001b[38;5;241m=\u001b[39m \u001b[38;5;28mdict\u001b[39m(successful\u001b[38;5;241m=\u001b[39msuccessful, failed\u001b[38;5;241m=\u001b[39mfailed, unknown\u001b[38;5;241m=\u001b[39munknown, skipped\u001b[38;5;241m=\u001b[39mskipped)\n\u001b[0;32m     77\u001b[0m \u001b[38;5;28;01mif\u001b[39;00m \u001b[38;5;28mself\u001b[39m\u001b[38;5;241m.\u001b[39munknown_error:\n\u001b[1;32m---> 78\u001b[0m     \u001b[38;5;28;43mself\u001b[39;49m\u001b[38;5;241;43m.\u001b[39;49m\u001b[43m_raise_basic_api_error\u001b[49m\u001b[43m(\u001b[49m\u001b[43mstr_format_element_fn\u001b[49m\u001b[43m,\u001b[49m\u001b[43m \u001b[49m\u001b[38;5;241;43m*\u001b[39;49m\u001b[38;5;241;43m*\u001b[39;49m\u001b[43mtask_lists\u001b[49m\u001b[43m)\u001b[49m\n\u001b[0;32m     79\u001b[0m \u001b[38;5;28;01mif\u001b[39;00m \u001b[38;5;28mself\u001b[39m\u001b[38;5;241m.\u001b[39mnot_found_error:\n\u001b[0;32m     80\u001b[0m     \u001b[38;5;28mself\u001b[39m\u001b[38;5;241m.\u001b[39m_raise_not_found_error(str_format_element_fn, \u001b[38;5;241m*\u001b[39m\u001b[38;5;241m*\u001b[39mtask_lists)\n",
      "File \u001b[1;32mc:\\Users\\RaushanK1\\AppData\\Local\\Programs\\Python\\Python311\\Lib\\site-packages\\cognite\\client\\utils\\_concurrency.py:114\u001b[0m, in \u001b[0;36mTasksSummary._raise_basic_api_error\u001b[1;34m(self, unwrap_fn, **task_lists)\u001b[0m\n\u001b[0;32m    103\u001b[0m \u001b[38;5;28;01mif\u001b[39;00m \u001b[38;5;28misinstance\u001b[39m(\u001b[38;5;28mself\u001b[39m\u001b[38;5;241m.\u001b[39munknown_error, CogniteAPIError) \u001b[38;5;129;01mand\u001b[39;00m (task_lists[\u001b[38;5;124m\"\u001b[39m\u001b[38;5;124mfailed\u001b[39m\u001b[38;5;124m\"\u001b[39m] \u001b[38;5;129;01mor\u001b[39;00m task_lists[\u001b[38;5;124m\"\u001b[39m\u001b[38;5;124munknown\u001b[39m\u001b[38;5;124m\"\u001b[39m]):\n\u001b[0;32m    104\u001b[0m     \u001b[38;5;28;01mraise\u001b[39;00m CogniteAPIError(\n\u001b[0;32m    105\u001b[0m         message\u001b[38;5;241m=\u001b[39m\u001b[38;5;28mself\u001b[39m\u001b[38;5;241m.\u001b[39munknown_error\u001b[38;5;241m.\u001b[39mmessage,\n\u001b[0;32m    106\u001b[0m         code\u001b[38;5;241m=\u001b[39m\u001b[38;5;28mself\u001b[39m\u001b[38;5;241m.\u001b[39munknown_error\u001b[38;5;241m.\u001b[39mcode,\n\u001b[1;32m   (...)\u001b[0m\n\u001b[0;32m    112\u001b[0m         \u001b[38;5;241m*\u001b[39m\u001b[38;5;241m*\u001b[39mtask_lists,\n\u001b[0;32m    113\u001b[0m     )\n\u001b[1;32m--> 114\u001b[0m \u001b[38;5;28;01mraise\u001b[39;00m \u001b[38;5;28mself\u001b[39m\u001b[38;5;241m.\u001b[39munknown_error\n",
      "File \u001b[1;32mc:\\Users\\RaushanK1\\AppData\\Local\\Programs\\Python\\Python311\\Lib\\site-packages\\cognite\\client\\utils\\_concurrency.py:307\u001b[0m, in \u001b[0;36mexecute_tasks\u001b[1;34m(func, tasks, max_workers, fail_fast, executor)\u001b[0m\n\u001b[0;32m    305\u001b[0m task \u001b[38;5;241m=\u001b[39m futures_dct[fut]\n\u001b[0;32m    306\u001b[0m \u001b[38;5;28;01mtry\u001b[39;00m:\n\u001b[1;32m--> 307\u001b[0m     res \u001b[38;5;241m=\u001b[39m \u001b[43mfut\u001b[49m\u001b[38;5;241;43m.\u001b[39;49m\u001b[43mresult\u001b[49m\u001b[43m(\u001b[49m\u001b[43m)\u001b[49m\n\u001b[0;32m    308\u001b[0m     results[\u001b[38;5;28mid\u001b[39m(task)] \u001b[38;5;241m=\u001b[39m task\n\u001b[0;32m    309\u001b[0m     successful_tasks[\u001b[38;5;28mid\u001b[39m(task)] \u001b[38;5;241m=\u001b[39m res\n",
      "File \u001b[1;32mc:\\Users\\RaushanK1\\AppData\\Local\\Programs\\Python\\Python311\\Lib\\concurrent\\futures\\_base.py:449\u001b[0m, in \u001b[0;36mFuture.result\u001b[1;34m(self, timeout)\u001b[0m\n\u001b[0;32m    447\u001b[0m     \u001b[38;5;28;01mraise\u001b[39;00m CancelledError()\n\u001b[0;32m    448\u001b[0m \u001b[38;5;28;01melif\u001b[39;00m \u001b[38;5;28mself\u001b[39m\u001b[38;5;241m.\u001b[39m_state \u001b[38;5;241m==\u001b[39m FINISHED:\n\u001b[1;32m--> 449\u001b[0m     \u001b[38;5;28;01mreturn\u001b[39;00m \u001b[38;5;28;43mself\u001b[39;49m\u001b[38;5;241;43m.\u001b[39;49m\u001b[43m__get_result\u001b[49m\u001b[43m(\u001b[49m\u001b[43m)\u001b[49m\n\u001b[0;32m    451\u001b[0m \u001b[38;5;28mself\u001b[39m\u001b[38;5;241m.\u001b[39m_condition\u001b[38;5;241m.\u001b[39mwait(timeout)\n\u001b[0;32m    453\u001b[0m \u001b[38;5;28;01mif\u001b[39;00m \u001b[38;5;28mself\u001b[39m\u001b[38;5;241m.\u001b[39m_state \u001b[38;5;129;01min\u001b[39;00m [CANCELLED, CANCELLED_AND_NOTIFIED]:\n",
      "File \u001b[1;32mc:\\Users\\RaushanK1\\AppData\\Local\\Programs\\Python\\Python311\\Lib\\concurrent\\futures\\_base.py:401\u001b[0m, in \u001b[0;36mFuture.__get_result\u001b[1;34m(self)\u001b[0m\n\u001b[0;32m    399\u001b[0m \u001b[38;5;28;01mif\u001b[39;00m \u001b[38;5;28mself\u001b[39m\u001b[38;5;241m.\u001b[39m_exception:\n\u001b[0;32m    400\u001b[0m     \u001b[38;5;28;01mtry\u001b[39;00m:\n\u001b[1;32m--> 401\u001b[0m         \u001b[38;5;28;01mraise\u001b[39;00m \u001b[38;5;28mself\u001b[39m\u001b[38;5;241m.\u001b[39m_exception\n\u001b[0;32m    402\u001b[0m     \u001b[38;5;28;01mfinally\u001b[39;00m:\n\u001b[0;32m    403\u001b[0m         \u001b[38;5;66;03m# Break a reference cycle with the exception in self._exception\u001b[39;00m\n\u001b[0;32m    404\u001b[0m         \u001b[38;5;28mself\u001b[39m \u001b[38;5;241m=\u001b[39m \u001b[38;5;28;01mNone\u001b[39;00m\n",
      "File \u001b[1;32mc:\\Users\\RaushanK1\\AppData\\Local\\Programs\\Python\\Python311\\Lib\\concurrent\\futures\\thread.py:58\u001b[0m, in \u001b[0;36m_WorkItem.run\u001b[1;34m(self)\u001b[0m\n\u001b[0;32m     55\u001b[0m     \u001b[38;5;28;01mreturn\u001b[39;00m\n\u001b[0;32m     57\u001b[0m \u001b[38;5;28;01mtry\u001b[39;00m:\n\u001b[1;32m---> 58\u001b[0m     result \u001b[38;5;241m=\u001b[39m \u001b[38;5;28;43mself\u001b[39;49m\u001b[38;5;241;43m.\u001b[39;49m\u001b[43mfn\u001b[49m\u001b[43m(\u001b[49m\u001b[38;5;241;43m*\u001b[39;49m\u001b[38;5;28;43mself\u001b[39;49m\u001b[38;5;241;43m.\u001b[39;49m\u001b[43margs\u001b[49m\u001b[43m,\u001b[49m\u001b[43m \u001b[49m\u001b[38;5;241;43m*\u001b[39;49m\u001b[38;5;241;43m*\u001b[39;49m\u001b[38;5;28;43mself\u001b[39;49m\u001b[38;5;241;43m.\u001b[39;49m\u001b[43mkwargs\u001b[49m\u001b[43m)\u001b[49m\n\u001b[0;32m     59\u001b[0m \u001b[38;5;28;01mexcept\u001b[39;00m \u001b[38;5;167;01mBaseException\u001b[39;00m \u001b[38;5;28;01mas\u001b[39;00m exc:\n\u001b[0;32m     60\u001b[0m     \u001b[38;5;28mself\u001b[39m\u001b[38;5;241m.\u001b[39mfuture\u001b[38;5;241m.\u001b[39mset_exception(exc)\n",
      "File \u001b[1;32mc:\\Users\\RaushanK1\\AppData\\Local\\Programs\\Python\\Python311\\Lib\\site-packages\\cognite\\client\\_api_client.py:175\u001b[0m, in \u001b[0;36mAPIClient._post\u001b[1;34m(self, url_path, json, params, headers, api_subversion)\u001b[0m\n\u001b[0;32m    167\u001b[0m \u001b[38;5;28;01mdef\u001b[39;00m \u001b[38;5;21m_post\u001b[39m(\n\u001b[0;32m    168\u001b[0m     \u001b[38;5;28mself\u001b[39m,\n\u001b[0;32m    169\u001b[0m     url_path: \u001b[38;5;28mstr\u001b[39m,\n\u001b[1;32m   (...)\u001b[0m\n\u001b[0;32m    173\u001b[0m     api_subversion: \u001b[38;5;28mstr\u001b[39m \u001b[38;5;241m|\u001b[39m \u001b[38;5;28;01mNone\u001b[39;00m \u001b[38;5;241m=\u001b[39m \u001b[38;5;28;01mNone\u001b[39;00m,\n\u001b[0;32m    174\u001b[0m ) \u001b[38;5;241m-\u001b[39m\u001b[38;5;241m>\u001b[39m Response:\n\u001b[1;32m--> 175\u001b[0m     \u001b[38;5;28;01mreturn\u001b[39;00m \u001b[38;5;28;43mself\u001b[39;49m\u001b[38;5;241;43m.\u001b[39;49m\u001b[43m_do_request\u001b[49m\u001b[43m(\u001b[49m\n\u001b[0;32m    176\u001b[0m \u001b[43m        \u001b[49m\u001b[38;5;124;43m\"\u001b[39;49m\u001b[38;5;124;43mPOST\u001b[39;49m\u001b[38;5;124;43m\"\u001b[39;49m\u001b[43m,\u001b[49m\n\u001b[0;32m    177\u001b[0m \u001b[43m        \u001b[49m\u001b[43murl_path\u001b[49m\u001b[43m,\u001b[49m\n\u001b[0;32m    178\u001b[0m \u001b[43m        \u001b[49m\u001b[43mjson\u001b[49m\u001b[38;5;241;43m=\u001b[39;49m\u001b[43mjson\u001b[49m\u001b[43m,\u001b[49m\n\u001b[0;32m    179\u001b[0m \u001b[43m        \u001b[49m\u001b[43mheaders\u001b[49m\u001b[38;5;241;43m=\u001b[39;49m\u001b[43mheaders\u001b[49m\u001b[43m,\u001b[49m\n\u001b[0;32m    180\u001b[0m \u001b[43m        \u001b[49m\u001b[43mparams\u001b[49m\u001b[38;5;241;43m=\u001b[39;49m\u001b[43mparams\u001b[49m\u001b[43m,\u001b[49m\n\u001b[0;32m    181\u001b[0m \u001b[43m        \u001b[49m\u001b[43mtimeout\u001b[49m\u001b[38;5;241;43m=\u001b[39;49m\u001b[38;5;28;43mself\u001b[39;49m\u001b[38;5;241;43m.\u001b[39;49m\u001b[43m_config\u001b[49m\u001b[38;5;241;43m.\u001b[39;49m\u001b[43mtimeout\u001b[49m\u001b[43m,\u001b[49m\n\u001b[0;32m    182\u001b[0m \u001b[43m        \u001b[49m\u001b[43mapi_subversion\u001b[49m\u001b[38;5;241;43m=\u001b[39;49m\u001b[43mapi_subversion\u001b[49m\u001b[43m,\u001b[49m\n\u001b[0;32m    183\u001b[0m \u001b[43m    \u001b[49m\u001b[43m)\u001b[49m\n",
      "File \u001b[1;32mc:\\Users\\RaushanK1\\AppData\\Local\\Programs\\Python\\Python311\\Lib\\site-packages\\cognite\\client\\_api_client.py:214\u001b[0m, in \u001b[0;36mAPIClient._do_request\u001b[1;34m(self, method, url_path, accept, api_subversion, **kwargs)\u001b[0m\n\u001b[0;32m    212\u001b[0m     msg \u001b[38;5;241m=\u001b[39m \u001b[38;5;124m\"\u001b[39m\u001b[38;5;124mOut of range float values are not JSON compliant\u001b[39m\u001b[38;5;124m\"\u001b[39m\n\u001b[0;32m    213\u001b[0m     \u001b[38;5;28;01mif\u001b[39;00m msg \u001b[38;5;129;01min\u001b[39;00m \u001b[38;5;28mstr\u001b[39m(e):  \u001b[38;5;66;03m# exc. might e.g. contain an extra \": nan\", depending on build (_json.make_encoder)\u001b[39;00m\n\u001b[1;32m--> 214\u001b[0m         \u001b[38;5;28;01mraise\u001b[39;00m \u001b[38;5;167;01mValueError\u001b[39;00m(\u001b[38;5;124mf\u001b[39m\u001b[38;5;124m\"\u001b[39m\u001b[38;5;132;01m{\u001b[39;00mmsg\u001b[38;5;132;01m}\u001b[39;00m\u001b[38;5;124m. Make sure your data does not contain NaN(s) or +/- Inf!\u001b[39m\u001b[38;5;124m\"\u001b[39m)\u001b[38;5;241m.\u001b[39mwith_traceback(\n\u001b[0;32m    215\u001b[0m             e\u001b[38;5;241m.\u001b[39m__traceback__\n\u001b[0;32m    216\u001b[0m         ) \u001b[38;5;28;01mfrom\u001b[39;00m \u001b[38;5;28;01mNone\u001b[39;00m\n\u001b[0;32m    217\u001b[0m     \u001b[38;5;28;01mraise\u001b[39;00m\n\u001b[0;32m    218\u001b[0m kwargs[\u001b[38;5;124m\"\u001b[39m\u001b[38;5;124mdata\u001b[39m\u001b[38;5;124m\"\u001b[39m] \u001b[38;5;241m=\u001b[39m data\n",
      "File \u001b[1;32mc:\\Users\\RaushanK1\\AppData\\Local\\Programs\\Python\\Python311\\Lib\\site-packages\\cognite\\client\\_api_client.py:209\u001b[0m, in \u001b[0;36mAPIClient._do_request\u001b[1;34m(self, method, url_path, accept, api_subversion, **kwargs)\u001b[0m\n\u001b[0;32m    207\u001b[0m \u001b[38;5;28;01mif\u001b[39;00m json_payload \u001b[38;5;129;01mis\u001b[39;00m \u001b[38;5;129;01mnot\u001b[39;00m \u001b[38;5;28;01mNone\u001b[39;00m:\n\u001b[0;32m    208\u001b[0m     \u001b[38;5;28;01mtry\u001b[39;00m:\n\u001b[1;32m--> 209\u001b[0m         data \u001b[38;5;241m=\u001b[39m \u001b[43m_json\u001b[49m\u001b[38;5;241;43m.\u001b[39;49m\u001b[43mdumps\u001b[49m\u001b[43m(\u001b[49m\u001b[43mjson_payload\u001b[49m\u001b[43m,\u001b[49m\u001b[43m \u001b[49m\u001b[43mallow_nan\u001b[49m\u001b[38;5;241;43m=\u001b[39;49m\u001b[38;5;28;43;01mFalse\u001b[39;49;00m\u001b[43m)\u001b[49m\n\u001b[0;32m    210\u001b[0m     \u001b[38;5;28;01mexcept\u001b[39;00m \u001b[38;5;167;01mValueError\u001b[39;00m \u001b[38;5;28;01mas\u001b[39;00m e:\n\u001b[0;32m    211\u001b[0m         \u001b[38;5;66;03m# A lot of work to give a more human friendly error message when nans and infs are present:\u001b[39;00m\n\u001b[0;32m    212\u001b[0m         msg \u001b[38;5;241m=\u001b[39m \u001b[38;5;124m\"\u001b[39m\u001b[38;5;124mOut of range float values are not JSON compliant\u001b[39m\u001b[38;5;124m\"\u001b[39m\n",
      "File \u001b[1;32mc:\\Users\\RaushanK1\\AppData\\Local\\Programs\\Python\\Python311\\Lib\\site-packages\\cognite\\client\\utils\\_json.py:41\u001b[0m, in \u001b[0;36mdumps\u001b[1;34m(obj, indent, allow_nan, sort_keys)\u001b[0m\n\u001b[0;32m     35\u001b[0m \u001b[38;5;28;01mdef\u001b[39;00m \u001b[38;5;21mdumps\u001b[39m(\n\u001b[0;32m     36\u001b[0m     obj: Any,\n\u001b[0;32m     37\u001b[0m     indent: \u001b[38;5;28mint\u001b[39m \u001b[38;5;241m|\u001b[39m \u001b[38;5;28;01mNone\u001b[39;00m \u001b[38;5;241m=\u001b[39m \u001b[38;5;28;01mNone\u001b[39;00m,\n\u001b[0;32m     38\u001b[0m     allow_nan: \u001b[38;5;28mbool\u001b[39m \u001b[38;5;241m=\u001b[39m \u001b[38;5;28;01mTrue\u001b[39;00m,\n\u001b[0;32m     39\u001b[0m     sort_keys: \u001b[38;5;28mbool\u001b[39m \u001b[38;5;241m=\u001b[39m \u001b[38;5;28;01mFalse\u001b[39;00m,\n\u001b[0;32m     40\u001b[0m ) \u001b[38;5;241m-\u001b[39m\u001b[38;5;241m>\u001b[39m \u001b[38;5;28mstr\u001b[39m:\n\u001b[1;32m---> 41\u001b[0m     \u001b[38;5;28;01mreturn\u001b[39;00m \u001b[43mjson\u001b[49m\u001b[38;5;241;43m.\u001b[39;49m\u001b[43mdumps\u001b[49m\u001b[43m(\u001b[49m\n\u001b[0;32m     42\u001b[0m \u001b[43m        \u001b[49m\u001b[43mobj\u001b[49m\u001b[43m,\u001b[49m\n\u001b[0;32m     43\u001b[0m \u001b[43m        \u001b[49m\u001b[43mdefault\u001b[49m\u001b[38;5;241;43m=\u001b[39;49m\u001b[43m_default_json_encoder\u001b[49m\u001b[43m,\u001b[49m\n\u001b[0;32m     44\u001b[0m \u001b[43m        \u001b[49m\u001b[43mindent\u001b[49m\u001b[38;5;241;43m=\u001b[39;49m\u001b[43mindent\u001b[49m\u001b[43m,\u001b[49m\n\u001b[0;32m     45\u001b[0m \u001b[43m        \u001b[49m\u001b[43mallow_nan\u001b[49m\u001b[38;5;241;43m=\u001b[39;49m\u001b[43mallow_nan\u001b[49m\u001b[43m,\u001b[49m\n\u001b[0;32m     46\u001b[0m \u001b[43m        \u001b[49m\u001b[43msort_keys\u001b[49m\u001b[38;5;241;43m=\u001b[39;49m\u001b[43msort_keys\u001b[49m\u001b[43m,\u001b[49m\n\u001b[0;32m     47\u001b[0m \u001b[43m    \u001b[49m\u001b[43m)\u001b[49m\n",
      "File \u001b[1;32mc:\\Users\\RaushanK1\\AppData\\Local\\Programs\\Python\\Python311\\Lib\\json\\__init__.py:238\u001b[0m, in \u001b[0;36mdumps\u001b[1;34m(obj, skipkeys, ensure_ascii, check_circular, allow_nan, cls, indent, separators, default, sort_keys, **kw)\u001b[0m\n\u001b[0;32m    232\u001b[0m \u001b[38;5;28;01mif\u001b[39;00m \u001b[38;5;28mcls\u001b[39m \u001b[38;5;129;01mis\u001b[39;00m \u001b[38;5;28;01mNone\u001b[39;00m:\n\u001b[0;32m    233\u001b[0m     \u001b[38;5;28mcls\u001b[39m \u001b[38;5;241m=\u001b[39m JSONEncoder\n\u001b[0;32m    234\u001b[0m \u001b[38;5;28;01mreturn\u001b[39;00m \u001b[38;5;28;43mcls\u001b[39;49m\u001b[43m(\u001b[49m\n\u001b[0;32m    235\u001b[0m \u001b[43m    \u001b[49m\u001b[43mskipkeys\u001b[49m\u001b[38;5;241;43m=\u001b[39;49m\u001b[43mskipkeys\u001b[49m\u001b[43m,\u001b[49m\u001b[43m \u001b[49m\u001b[43mensure_ascii\u001b[49m\u001b[38;5;241;43m=\u001b[39;49m\u001b[43mensure_ascii\u001b[49m\u001b[43m,\u001b[49m\n\u001b[0;32m    236\u001b[0m \u001b[43m    \u001b[49m\u001b[43mcheck_circular\u001b[49m\u001b[38;5;241;43m=\u001b[39;49m\u001b[43mcheck_circular\u001b[49m\u001b[43m,\u001b[49m\u001b[43m \u001b[49m\u001b[43mallow_nan\u001b[49m\u001b[38;5;241;43m=\u001b[39;49m\u001b[43mallow_nan\u001b[49m\u001b[43m,\u001b[49m\u001b[43m \u001b[49m\u001b[43mindent\u001b[49m\u001b[38;5;241;43m=\u001b[39;49m\u001b[43mindent\u001b[49m\u001b[43m,\u001b[49m\n\u001b[0;32m    237\u001b[0m \u001b[43m    \u001b[49m\u001b[43mseparators\u001b[49m\u001b[38;5;241;43m=\u001b[39;49m\u001b[43mseparators\u001b[49m\u001b[43m,\u001b[49m\u001b[43m \u001b[49m\u001b[43mdefault\u001b[49m\u001b[38;5;241;43m=\u001b[39;49m\u001b[43mdefault\u001b[49m\u001b[43m,\u001b[49m\u001b[43m \u001b[49m\u001b[43msort_keys\u001b[49m\u001b[38;5;241;43m=\u001b[39;49m\u001b[43msort_keys\u001b[49m\u001b[43m,\u001b[49m\n\u001b[1;32m--> 238\u001b[0m \u001b[43m    \u001b[49m\u001b[38;5;241;43m*\u001b[39;49m\u001b[38;5;241;43m*\u001b[39;49m\u001b[43mkw\u001b[49m\u001b[43m)\u001b[49m\u001b[38;5;241;43m.\u001b[39;49m\u001b[43mencode\u001b[49m\u001b[43m(\u001b[49m\u001b[43mobj\u001b[49m\u001b[43m)\u001b[49m\n",
      "File \u001b[1;32mc:\\Users\\RaushanK1\\AppData\\Local\\Programs\\Python\\Python311\\Lib\\json\\encoder.py:200\u001b[0m, in \u001b[0;36mJSONEncoder.encode\u001b[1;34m(self, o)\u001b[0m\n\u001b[0;32m    196\u001b[0m         \u001b[38;5;28;01mreturn\u001b[39;00m encode_basestring(o)\n\u001b[0;32m    197\u001b[0m \u001b[38;5;66;03m# This doesn't pass the iterator directly to ''.join() because the\u001b[39;00m\n\u001b[0;32m    198\u001b[0m \u001b[38;5;66;03m# exceptions aren't as detailed.  The list call should be roughly\u001b[39;00m\n\u001b[0;32m    199\u001b[0m \u001b[38;5;66;03m# equivalent to the PySequence_Fast that ''.join() would do.\u001b[39;00m\n\u001b[1;32m--> 200\u001b[0m chunks \u001b[38;5;241m=\u001b[39m \u001b[38;5;28;43mself\u001b[39;49m\u001b[38;5;241;43m.\u001b[39;49m\u001b[43miterencode\u001b[49m\u001b[43m(\u001b[49m\u001b[43mo\u001b[49m\u001b[43m,\u001b[49m\u001b[43m \u001b[49m\u001b[43m_one_shot\u001b[49m\u001b[38;5;241;43m=\u001b[39;49m\u001b[38;5;28;43;01mTrue\u001b[39;49;00m\u001b[43m)\u001b[49m\n\u001b[0;32m    201\u001b[0m \u001b[38;5;28;01mif\u001b[39;00m \u001b[38;5;129;01mnot\u001b[39;00m \u001b[38;5;28misinstance\u001b[39m(chunks, (\u001b[38;5;28mlist\u001b[39m, \u001b[38;5;28mtuple\u001b[39m)):\n\u001b[0;32m    202\u001b[0m     chunks \u001b[38;5;241m=\u001b[39m \u001b[38;5;28mlist\u001b[39m(chunks)\n",
      "File \u001b[1;32mc:\\Users\\RaushanK1\\AppData\\Local\\Programs\\Python\\Python311\\Lib\\json\\encoder.py:258\u001b[0m, in \u001b[0;36mJSONEncoder.iterencode\u001b[1;34m(self, o, _one_shot)\u001b[0m\n\u001b[0;32m    253\u001b[0m \u001b[38;5;28;01melse\u001b[39;00m:\n\u001b[0;32m    254\u001b[0m     _iterencode \u001b[38;5;241m=\u001b[39m _make_iterencode(\n\u001b[0;32m    255\u001b[0m         markers, \u001b[38;5;28mself\u001b[39m\u001b[38;5;241m.\u001b[39mdefault, _encoder, \u001b[38;5;28mself\u001b[39m\u001b[38;5;241m.\u001b[39mindent, floatstr,\n\u001b[0;32m    256\u001b[0m         \u001b[38;5;28mself\u001b[39m\u001b[38;5;241m.\u001b[39mkey_separator, \u001b[38;5;28mself\u001b[39m\u001b[38;5;241m.\u001b[39mitem_separator, \u001b[38;5;28mself\u001b[39m\u001b[38;5;241m.\u001b[39msort_keys,\n\u001b[0;32m    257\u001b[0m         \u001b[38;5;28mself\u001b[39m\u001b[38;5;241m.\u001b[39mskipkeys, _one_shot)\n\u001b[1;32m--> 258\u001b[0m \u001b[38;5;28;01mreturn\u001b[39;00m \u001b[43m_iterencode\u001b[49m\u001b[43m(\u001b[49m\u001b[43mo\u001b[49m\u001b[43m,\u001b[49m\u001b[43m \u001b[49m\u001b[38;5;241;43m0\u001b[39;49m\u001b[43m)\u001b[49m\n",
      "\u001b[1;31mValueError\u001b[0m: Out of range float values are not JSON compliant. Make sure your data does not contain NaN(s) or +/- Inf!"
     ]
    }
   ],
   "source": [
    "# Create each region as a new asset\n",
    "store = []\n",
    "for region in df['region'].unique():\n",
    "    asset=Asset(name=region, data_set_id=data_set_id,parent_id=root_asset.id)\n",
    "    store.append(asset)\n",
    "\n",
    "client.assets.create(store)"
   ]
  },
  {
   "cell_type": "code",
   "execution_count": null,
   "id": "922e075b",
   "metadata": {},
   "outputs": [],
   "source": [
    "# Find the mapping between the region level asset and its id\n",
    "region_to_id = client.assets.list(data_set_ids=[data_set_id]).to_pandas()[['name','id']].set_index('name')['id'].to_dict()\n",
    "region_to_id"
   ]
  },
  {
   "cell_type": "code",
   "execution_count": null,
   "id": "657b18fa",
   "metadata": {},
   "outputs": [],
   "source": [
    "# Find all countries and which regions they belong to\n",
    "countries_to_regions = df[['name','region']].set_index('name').to_dict()['region']\n",
    "countries_to_regions"
   ]
  },
  {
   "cell_type": "code",
   "execution_count": null,
   "id": "684fda58",
   "metadata": {},
   "outputs": [],
   "source": [
    "# Create an asset for each country\n",
    "store = []\n",
    "for country in countries_to_regions:\n",
    "    \n",
    "    region = countries_to_regions[country]\n",
    "    asset=Asset(name=country, data_set_id=data_set_id,parent_id=region_to_id[region])\n",
    "    store.append(asset)\n",
    "    \n",
    "client.assets.create(store)"
   ]
  },
  {
   "cell_type": "code",
   "execution_count": null,
   "id": "5afe8eae",
   "metadata": {},
   "outputs": [],
   "source": [
    "# Find all assets in the Europe region\n",
    "client.assets.list(data_set_ids=[data_set_id],parent_ids=[region_to_id['Europe']],limit=-1).to_pandas()"
   ]
  },
  {
   "cell_type": "markdown",
   "id": "e6a1004e",
   "metadata": {},
   "source": [
    "# 3 Adding Time Series Data"
   ]
  },
  {
   "cell_type": "code",
   "execution_count": null,
   "id": "f5cc8fa3",
   "metadata": {},
   "outputs": [],
   "source": [
    "# Read population data\n",
    "df= pd.read_csv('../data/populations_postprocessed.csv', index_col=0, parse_dates=True)\n",
    "df.head()"
   ]
  },
  {
   "cell_type": "code",
   "execution_count": null,
   "id": "d53c90a8",
   "metadata": {},
   "outputs": [],
   "source": [
    "# Find mapping of country to its id\n",
    "country_to_id = client.assets.list(data_set_ids=[data_set_id], limit=-1).to_pandas()[['name','id']].set_index('name')['id'].to_dict()\n",
    "\n",
    "country_to_id"
   ]
  },
  {
   "cell_type": "code",
   "execution_count": null,
   "id": "088bc7ac",
   "metadata": {},
   "outputs": [],
   "source": [
    "from cognite.client.data_classes import TimeSeries\n",
    "\n",
    "# Create a time series object for each country to store population data\n",
    "store = []\n",
    "for country in df.columns:\n",
    "    ts = TimeSeries(name=f'{country}_population',data_set_id=data_set_id, asset_id=country_to_id[country])\n",
    "    store.append(ts)\n",
    "    \n",
    "client.time_series.create(store)"
   ]
  },
  {
   "cell_type": "code",
   "execution_count": null,
   "id": "8854d6db",
   "metadata": {},
   "outputs": [],
   "source": [
    "# Change the name of the columns in the data frame\n",
    "df.columns = df.columns+'_population'\n",
    "\n",
    "# Find the mapping of the time series to its id\n",
    "ts_to_id = client.time_series.list(data_set_ids=[data_set_id], limit=-1).to_pandas()[['name','id']].set_index('name')['id'].to_dict()\n",
    "\n",
    "# Rename data frame so that columns correspond to the time seris id\n",
    "df = df.rename(columns=ts_to_id)\n",
    "\n",
    "df.head()"
   ]
  },
  {
   "cell_type": "code",
   "execution_count": null,
   "id": "7c1d1a4f",
   "metadata": {},
   "outputs": [],
   "source": [
    "# Insert the population data as a dataframe\n",
    "client.time_series.data.insert_dataframe(df, external_id_headers=False)"
   ]
  },
  {
   "cell_type": "code",
   "execution_count": null,
   "id": "fc658c79",
   "metadata": {},
   "outputs": [],
   "source": [
    "# Find the latest value for the population of Benin\n",
    "client.time_series.data.retrieve_latest(ts_to_id['Benin_population'])"
   ]
  },
  {
   "cell_type": "code",
   "execution_count": null,
   "id": "374bc34c",
   "metadata": {},
   "outputs": [],
   "source": [
    "# List all assets in Europe\n",
    "assets = client.assets.list(data_set_ids=[data_set_id],parent_ids=[region_to_id['Europe']], limit=-1)\n",
    "\n",
    "# List all time series of those assets\n",
    "ts = client.time_series.list(data_set_ids=[data_set_id],asset_ids=[asset.id for asset in assets], limit=-1)\n",
    "\n",
    "# Retrieve the latest data for all of these time series\n",
    "data = client.time_series.data.retrieve_latest([item.id for item in ts]).to_pandas()\n",
    "\n",
    "data.head()"
   ]
  },
  {
   "cell_type": "code",
   "execution_count": null,
   "id": "3dfd4e1e",
   "metadata": {},
   "outputs": [],
   "source": [
    "# Perform a sum to evaluate whole population\n",
    "data.T.sum()"
   ]
  },
  {
   "cell_type": "markdown",
   "id": "5fe214dd",
   "metadata": {},
   "source": [
    "## 4. Uploading Files"
   ]
  },
  {
   "cell_type": "code",
   "execution_count": null,
   "id": "62524daf",
   "metadata": {},
   "outputs": [],
   "source": [
    "import os\n",
    "\n",
    "# List all files and upload them\n",
    "for item in os.listdir('../data/files'):\n",
    "    country = item.split('.')[0]\n",
    "    client.files.upload(f\"../data/files/{item}\", name=f\"{country}_data_sheet\",data_set_id=data_set_id, asset_ids=[country_to_id[country]])"
   ]
  },
  {
   "cell_type": "code",
   "execution_count": null,
   "id": "07e6ed7a",
   "metadata": {},
   "outputs": [],
   "source": [
    "# List all files related to Vanuatu\n",
    "client.files.list(asset_ids=[country_to_id['Vanuatu']])"
   ]
  },
  {
   "cell_type": "markdown",
   "id": "894697f8",
   "metadata": {},
   "source": [
    "## 5. Adding events"
   ]
  },
  {
   "cell_type": "code",
   "execution_count": null,
   "id": "ba2b4fbc",
   "metadata": {},
   "outputs": [],
   "source": [
    "# Read event data\n",
    "df = pd.read_csv('../data/events.csv')\n",
    "df.head()"
   ]
  },
  {
   "cell_type": "code",
   "execution_count": null,
   "id": "d4bdfb02",
   "metadata": {},
   "outputs": [],
   "source": [
    "from cognite.client.data_classes import Event\n",
    "\n",
    "\n",
    "store = []\n",
    "# Cycle through each row\n",
    "for _,row in df.iterrows():\n",
    "    \n",
    "    # Unpack the row\n",
    "    _,_,_,Disaster_Type,Disaster_Subtype,_,Country,_,_,_,Location,_,Start_Year,Start_Month,Start_Day,End_Year,End_Month,End_Day = row\n",
    "        \n",
    "    # Create start and end datetimes\n",
    "    start_date = pd.to_datetime(f'{Start_Year}-{Start_Month}-{int(Start_Day)}')\n",
    "    end_date = pd.to_datetime(f'{End_Year}-{End_Month}-{int(End_Day)}')\n",
    "    \n",
    "    # Create metadata\n",
    "    metadata = {'Location':Location}\n",
    "    \n",
    "    # Create the event and store\n",
    "    event = Event(start_time=int(start_date.timestamp()*1000), end_time=int(end_date.timestamp()*1000),metadata=metadata,data_set_id=data_set_id, type=Disaster_Type, subtype=Disaster_Subtype, asset_ids=[country_to_id[Country]])\n",
    "    store.append(event)\n",
    "\n",
    "client.events.create(store)"
   ]
  },
  {
   "cell_type": "code",
   "execution_count": null,
   "id": "5148a7dd",
   "metadata": {},
   "outputs": [],
   "source": [
    "client.events.list(data_set_ids=[data_set_id], type='Volcanic activity')"
   ]
  },
  {
   "cell_type": "markdown",
   "id": "08754702",
   "metadata": {},
   "source": [
    "## 6. Add Labels"
   ]
  },
  {
   "cell_type": "code",
   "execution_count": null,
   "id": "add0cffd",
   "metadata": {},
   "outputs": [],
   "source": [
    "client.labels.list()"
   ]
  },
  {
   "cell_type": "code",
   "execution_count": null,
   "id": "13911873",
   "metadata": {},
   "outputs": [],
   "source": [
    "for country in ['Norway','Canada','Latvia']:\n",
    "\n",
    "    my_update = AssetUpdate(id=country_to_id[country]).labels.set('cold-countries')\n",
    "\n",
    "    client.assets.update(my_update)"
   ]
  },
  {
   "cell_type": "code",
   "execution_count": null,
   "id": "cb130b19",
   "metadata": {},
   "outputs": [],
   "source": [
    "for country in ['Ghana','Qatar','Malaysia']:\n",
    "\n",
    "    my_update = AssetUpdate(id=country_to_id[country]).labels.set('hot-countries')\n",
    "\n",
    "    client.assets.update(my_update)"
   ]
  },
  {
   "cell_type": "code",
   "execution_count": null,
   "id": "ed6d5326",
   "metadata": {},
   "outputs": [],
   "source": [
    "from cognite.client.data_classes import LabelFilter\n",
    "\n",
    "my_filter = LabelFilter(contains_any=['cold-countries'])\n",
    "\n",
    "client.assets.list(labels=my_filter,data_set_ids=[data_set_id])"
   ]
  },
  {
   "cell_type": "markdown",
   "id": "81d716df",
   "metadata": {},
   "source": [
    "## 7. Final Task:  Clean-Up and Delete the Data in your Data Set\n"
   ]
  },
  {
   "cell_type": "code",
   "execution_count": null,
   "id": "36abc60d",
   "metadata": {},
   "outputs": [],
   "source": [
    "# Assets\n",
    "all_assets = [asset.id for asset in client.assets.list(limit=-1, data_set_ids=[data_set_id])]\n",
    "client.assets.delete(all_assets)\n",
    "\n",
    "# Time series\n",
    "all_time_series = [ts.id for ts in client.time_series.list(limit=-1, data_set_ids=[data_set_id])]\n",
    "client.time_series.delete(all_time_series)\n",
    "\n",
    "# Files\n",
    "all_files = [file.id for file in client.files.list(limit=-1, data_set_ids=[data_set_id])]\n",
    "client.files.delete(all_files)\n",
    "\n",
    "# Events\n",
    "all_events = [event.id for event in client.events.list(limit=-1, data_set_ids=[data_set_id])]\n",
    "client.events.delete(all_events)\n",
    "\n",
    "\n",
    "print('Success!')"
   ]
  }
 ],
 "metadata": {
  "kernelspec": {
   "display_name": "Python 3",
   "language": "python",
   "name": "python3"
  },
  "language_info": {
   "codemirror_mode": {
    "name": "ipython",
    "version": 3
   },
   "file_extension": ".py",
   "mimetype": "text/x-python",
   "name": "python",
   "nbconvert_exporter": "python",
   "pygments_lexer": "ipython3",
   "version": "3.11.4"
  },
  "vscode": {
   "interpreter": {
    "hash": "44632770a8e081848b27e822703d69684fcad84b9999757e821a0f496acab079"
   }
  }
 },
 "nbformat": 4,
 "nbformat_minor": 5
}
